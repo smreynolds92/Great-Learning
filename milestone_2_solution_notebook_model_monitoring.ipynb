{
  "cells": [
    {
      "cell_type": "markdown",
      "metadata": {
        "id": "view-in-github",
        "colab_type": "text"
      },
      "source": [
        "<a href=\"https://colab.research.google.com/github/smreynolds92/Great-Learning/blob/main/milestone_2_solution_notebook_model_monitoring.ipynb\" target=\"_parent\"><img src=\"https://colab.research.google.com/assets/colab-badge.svg\" alt=\"Open In Colab\"/></a>"
      ]
    },
    {
      "cell_type": "markdown",
      "source": [
        "# Milestone 2: Model Monitoring"
      ],
      "metadata": {
        "nteract": {
          "transient": {
            "deleting": false
          }
        },
        "id": "q2Hsk0vnKvgc"
      }
    },
    {
      "cell_type": "markdown",
      "source": [
        "**Business Context: **\n",
        "\n",
        "Fashion Haven has successfully implemented a predictive model for sales revenue estimation based on their advertising campaigns across different media sources (TV, Newspaper, Radio). The model has been deployed in production, and it plays a crucial role in guiding the company's advertising budget allocation and overall marketing strategy. However, after the initial deployment, the company faces the challenge of monitoring the model's performance and ensuring its ongoing reliability and accuracy. Over time, the business environment may change, advertising trends could evolve, or external factors may impact customer behavior, all of which can influence the model's predictive capabilities. Fashion Haven needs to develop a robust model monitoring system to identify and address potential issues with the deployed sales revenue prediction model.\n",
        "The goal of this model monitoring assignment is to implement a proactive approach to ensure the model's continued effectiveness and identify any degradation in its performance. By regularly monitoring the model, Fashion Haven can maintain the quality of predictions, make timely updates, and take corrective actions as needed.\n",
        "\n",
        "\n",
        "The model monitoring system should provide the following key functionalities:\n",
        "\n",
        "1. Data Drift Detection: The business environment is dynamic, and changes in customer behavior, market trends, or competitor strategies may cause data distribution to drift over time. The monitoring system should identify and measure data drift in the input features used by the model, helping the team understand how well the model adapts to new data.\n",
        "\n",
        "2. Model Drift Checks: Regular calibration checks will ensure that the model's predicted probabilities align with the observed outcomes. If the model becomes miscalibrated, corrective actions should be taken to recalibrate it for accurate probability estimates.\n",
        "\n",
        "**Data Description:**\n",
        "\n",
        "The data contains the different attributes of the advertising business. The detailed data dictionary is given below.\n",
        "\n",
        "1. TV: Expenditure on media resource- TV\n",
        "\n",
        "2. Radio: Expenditure on media resource- Radio\n",
        "\n",
        "3. NewsPaper: Expenditure on media resource- Newspaper\n",
        "\n",
        "4. Sales: Target Column - Amount of Sales\n"
      ],
      "metadata": {
        "nteract": {
          "transient": {
            "deleting": false
          }
        },
        "id": "eIH6zZmvKvgd"
      }
    },
    {
      "cell_type": "markdown",
      "source": [
        "*** I have used the class workbooks, my previous projects, and internet searches as an example for much of my coding in this project."
      ],
      "metadata": {
        "nteract": {
          "transient": {
            "deleting": false
          }
        },
        "id": "ozivn0kHKvge"
      }
    },
    {
      "cell_type": "markdown",
      "source": [
        "## Connect to the workspace"
      ],
      "metadata": {
        "nteract": {
          "transient": {
            "deleting": false
          }
        },
        "id": "WA4tdJeMKvgf"
      }
    },
    {
      "cell_type": "code",
      "source": [
        "# Handle to the workspace\n",
        "from azure.ai.ml import MLClient\n",
        "\n",
        "# Authentication package\n",
        "from azure.identity import DefaultAzureCredential\n",
        "\n",
        "credential = DefaultAzureCredential()\n",
        "\n",
        "from azure.ai.ml.entities import (\n",
        "    ManagedOnlineEndpoint,\n",
        "    ManagedOnlineDeployment,\n",
        "    Model,\n",
        "    CodeConfiguration\n",
        ")\n",
        "\n",
        "from azure.storage.blob import BlobServiceClient"
      ],
      "outputs": [],
      "execution_count": null,
      "metadata": {
        "jupyter": {
          "source_hidden": false,
          "outputs_hidden": false
        },
        "nteract": {
          "transient": {
            "deleting": false
          }
        },
        "gather": {
          "logged": 1734287424049
        },
        "id": "-d3XDW5SKvgf"
      }
    },
    {
      "cell_type": "code",
      "source": [
        "# Get a handle to the workspace by providing the workspace subscription_id, resource_group_name, and workspace_name\n",
        "ml_client = MLClient(\n",
        "    credential=credential,\n",
        "    subscription_id=\"a957f7f0-2b65-4c7d-9622-3fe86a8388b8\",\n",
        "    resource_group_name=\"test-resourceSR\",\n",
        "    workspace_name=\"demo-azuremlSR\",\n",
        ")"
      ],
      "outputs": [],
      "execution_count": null,
      "metadata": {
        "jupyter": {
          "source_hidden": false,
          "outputs_hidden": false
        },
        "nteract": {
          "transient": {
            "deleting": false
          }
        },
        "gather": {
          "logged": 1734287426390
        },
        "id": "msxCB811Kvgg"
      }
    },
    {
      "cell_type": "markdown",
      "source": [
        "**Observation:**\n",
        "- Using the subscription_id, resource_group_name, and workspace_name from this Azure session/setup."
      ],
      "metadata": {
        "nteract": {
          "transient": {
            "deleting": false
          }
        },
        "id": "1a8zSoCiKvgg"
      }
    },
    {
      "cell_type": "markdown",
      "source": [
        "## Create a compute resource to run the jobs\n",
        "\n"
      ],
      "metadata": {
        "nteract": {
          "transient": {
            "deleting": false
          }
        },
        "id": "uuF7ofV8Kvgh"
      }
    },
    {
      "cell_type": "code",
      "source": [
        "from azure.ai.ml.entities import AmlCompute\n",
        "\n",
        "# Name assigned to the compute cluster\n",
        "cpu_compute_target = \"cpu-cluster-sr\"\n",
        "\n",
        "try:\n",
        "    # Checking to see if the compute target already exists\n",
        "    cpu_cluster = ml_client.compute.get(cpu_compute_target)\n",
        "    print(\n",
        "        f\"You already have a cluster named {cpu_compute_target}, we'll reuse it as is.\"\n",
        "    )\n",
        "\n",
        "except Exception:\n",
        "    print(\"Creating a new cpu compute target...\")\n",
        "\n",
        "    # Create the Azure ML compute object with the intended parameters\n",
        "    cpu_cluster = AmlCompute(\n",
        "        name=cpu_compute_target,\n",
        "        # Azure ML Compute is the on-demand VM service\n",
        "        type=\"amlcompute\",\n",
        "        # VM Family\n",
        "        size=\"STANDARD_D2_V3\",\n",
        "        # Minimum running nodes when there is no job running\n",
        "        min_instances=0,\n",
        "        # Nodes in cluster\n",
        "        max_instances=1,\n",
        "        # How many seconds will the node running after the job termination\n",
        "        idle_time_before_scale_down=300,\n",
        "        # Dedicated or LowPriority. The latter is cheaper but there is a chance of job termination\n",
        "        tier=\"Dedicated\",\n",
        "    )\n",
        "\n",
        "    # Passing the object to MLClient's create_or_update method\n",
        "    cpu_cluster = ml_client.compute.begin_create_or_update(cpu_cluster).result()\n",
        "\n",
        "print(\n",
        "    f\"AMLCompute with name {cpu_cluster.name} is created, the compute size is {cpu_cluster.size}\"\n",
        ")"
      ],
      "outputs": [
        {
          "output_type": "stream",
          "name": "stdout",
          "text": "Creating a new cpu compute target...\nAMLCompute with name cpu-cluster-sr is created, the compute size is STANDARD_D2_V3\n"
        }
      ],
      "execution_count": null,
      "metadata": {
        "jupyter": {
          "source_hidden": false,
          "outputs_hidden": false
        },
        "nteract": {
          "transient": {
            "deleting": false
          }
        },
        "gather": {
          "logged": 1734287462804
        },
        "id": "DpdFj9qCKvgh",
        "outputId": "19811b94-a6c0-40b1-c909-ca61e0b291d6"
      }
    },
    {
      "cell_type": "markdown",
      "source": [
        "**Observation:**\n",
        "- The compute cluster is created and has a STANDARD_D2_V3 size."
      ],
      "metadata": {
        "nteract": {
          "transient": {
            "deleting": false
          }
        },
        "id": "I-nVMU4RKvgi"
      }
    },
    {
      "cell_type": "markdown",
      "source": [
        "## Configure and submit your training job"
      ],
      "metadata": {
        "nteract": {
          "transient": {
            "deleting": false
          }
        },
        "id": "TgzPBMDsKvgi"
      }
    },
    {
      "cell_type": "markdown",
      "source": [
        "#### Prepare the training script:"
      ],
      "metadata": {
        "nteract": {
          "transient": {
            "deleting": false
          }
        },
        "id": "3GZVXwpUKvgj"
      }
    },
    {
      "cell_type": "code",
      "source": [
        "# Creating a directory to store the training script file.\n",
        "import os\n",
        "\n",
        "src_dir = \"./src\"\n",
        "os.makedirs(src_dir, exist_ok=True)"
      ],
      "outputs": [],
      "execution_count": null,
      "metadata": {
        "jupyter": {
          "source_hidden": false,
          "outputs_hidden": false
        },
        "nteract": {
          "transient": {
            "deleting": false
          }
        },
        "gather": {
          "logged": 1734287463061
        },
        "id": "cAvlKWxmKvgj"
      }
    },
    {
      "cell_type": "markdown",
      "source": [
        "**Observation:**\n",
        "- Creating a folder for the .py files in this notebook."
      ],
      "metadata": {
        "nteract": {
          "transient": {
            "deleting": false
          }
        },
        "id": "5Fe7y8VDKvgj"
      }
    },
    {
      "cell_type": "code",
      "source": [
        "%%writefile {src_dir}/main.py\n",
        "\n",
        "import os\n",
        "import mlflow\n",
        "import argparse\n",
        "\n",
        "import pandas as pd\n",
        "\n",
        "from sklearn.preprocessing import StandardScaler, OneHotEncoder\n",
        "from sklearn.pipeline import make_pipeline\n",
        "from sklearn.compose import make_column_transformer\n",
        "\n",
        "from sklearn.model_selection import train_test_split\n",
        "\n",
        "from sklearn.ensemble import GradientBoostingRegressor\n",
        "\n",
        "def main():\n",
        "\n",
        "    mlflow.start_run() # Start an MLflow run\n",
        "\n",
        "    parser = argparse.ArgumentParser() # Create an argument parser\n",
        "    parser.add_argument(\"--data\", type=str)  # Add an argument for the data file path\n",
        "    parser.add_argument(\"--learning-rate\", required=False, default=0.1, type=float)\n",
        "    parser.add_argument(\"--max-depth\", required=False, default=4, type=float)\n",
        "    parser.add_argument(\"--n-estimators\", required=False, default=100, type=int)\n",
        "    args = parser.parse_args()\n",
        "\n",
        "    advertise = pd.read_csv(args.data)\n",
        "\n",
        "    from sklearn.model_selection import train_test_split\n",
        "    X = advertise.drop(columns=[\"Sales\"])\n",
        "    X = pd.get_dummies(X,drop_first=True)\n",
        "\n",
        "    y = advertise[\"Sales\"]\n",
        "\n",
        "    X_train, X_test, y_train, y_test = train_test_split(\n",
        "            X, y, test_size=0.2, random_state=42\n",
        "    )\n",
        "    # Create a Gradient Boosting Regressor model with the specified hyperparameters\n",
        "    model_gbr = GradientBoostingRegressor(\n",
        "        n_estimators=args.n_estimators,\n",
        "        learning_rate=args.learning_rate,\n",
        "        max_depth=args.max_depth\n",
        "    )\n",
        "\n",
        "\n",
        "    model_gbr.fit(X_train, y_train)\n",
        "\n",
        "    rmse = model_gbr.score(X_test, y_test)\n",
        "\n",
        "    mlflow.log_metric(\"RMSE\", float(rmse))\n",
        "\n",
        "    print(\"Registering model pipeline\")\n",
        "     # Log the trained model to MLflow\n",
        "    mlflow.sklearn.log_model(\n",
        "        sk_model=model_gbr,\n",
        "        registered_model_name=\"gbr_advertise_predictor\",\n",
        "        artifact_path=\"gbr_advertise_predictor\"\n",
        "    )\n",
        "    # End the MLflow run\n",
        "\n",
        "    mlflow.end_run()\n",
        "\n",
        "\n",
        "if __name__ == '__main__':\n",
        "    main()"
      ],
      "outputs": [
        {
          "output_type": "stream",
          "name": "stdout",
          "text": "Overwriting ./src/main.py\n"
        }
      ],
      "execution_count": null,
      "metadata": {
        "jupyter": {
          "source_hidden": false,
          "outputs_hidden": false
        },
        "nteract": {
          "transient": {
            "deleting": false
          }
        },
        "id": "ejTyJsDYKvgj",
        "outputId": "34622a04-207b-4b50-aae5-fee094a0dfcc"
      }
    },
    {
      "cell_type": "markdown",
      "source": [
        "**Observation:**\n",
        "- The main.py file is created and stored in the ./src folder.  The model that is chosen is the GradientBoostingRegressor which is good for predictive problems.  The primary metric chosen is RMSE, which will measures how well a statistical model predicts an target value/accuracy."
      ],
      "metadata": {
        "nteract": {
          "transient": {
            "deleting": false
          }
        },
        "id": "tlXewG86Kvgk"
      }
    },
    {
      "cell_type": "markdown",
      "source": [
        "#### Define training job:\n",
        "\n"
      ],
      "metadata": {
        "nteract": {
          "transient": {
            "deleting": false
          }
        },
        "id": "ctUIx7lAKvgk"
      }
    },
    {
      "cell_type": "code",
      "source": [
        "# Import the necessary modules\n",
        "from azure.ai.ml import command\n",
        "from azure.ai.ml import Input\n",
        "\n",
        "# Define a new AML job using the `command` function\n",
        "job = command(\n",
        "    inputs=dict(\n",
        "        data=Input(\n",
        "            type=\"uri_file\",\n",
        "            path=\"./data/advertising_raw.csv\" # The path to the input data file\n",
        "                )),\n",
        "    # Specify the directory containing the code to be run in the job\n",
        "    code=\"./src/\",\n",
        "    # Specify the command to be run in the job, including the input data and parameters as command line arguments\n",
        "    command=\"python main.py --data ${{inputs.data}}\",\n",
        "    # Specify the environment to be used for the job\n",
        "    environment=\"AzureML-sklearn-1.0-ubuntu20.04-py38-cpu@latest\",\n",
        "    # Specify the compute target to be used for the job\n",
        "    compute=\"cpu-cluster-sr\",\n",
        "    # Specify the name of the experiment for the job\n",
        "    experiment_name=\"advertise_exper_test\",\n",
        "     # Specify the display name for the job\n",
        "    display_name=\"advertise_display_name\",\n",
        ")"
      ],
      "outputs": [],
      "execution_count": null,
      "metadata": {
        "jupyter": {
          "source_hidden": false,
          "outputs_hidden": false
        },
        "nteract": {
          "transient": {
            "deleting": false
          }
        },
        "gather": {
          "logged": 1734287463512
        },
        "id": "i70G6D92Kvgk"
      }
    },
    {
      "cell_type": "markdown",
      "source": [
        "**Observation:**\n",
        "- The processing job is configured with parameters for this workbook/milestone."
      ],
      "metadata": {
        "nteract": {
          "transient": {
            "deleting": false
          }
        },
        "id": "AxOO5wCfKvgk"
      }
    },
    {
      "cell_type": "markdown",
      "source": [
        "#### Submit the job:"
      ],
      "metadata": {
        "nteract": {
          "transient": {
            "deleting": false
          }
        },
        "id": "3GNg_xsnKvgl"
      }
    },
    {
      "cell_type": "code",
      "source": [
        "# ml_client.create_or_update will create a new job if it does not exist or update the existing job if it does\n",
        "ml_client.create_or_update(job)"
      ],
      "outputs": [
        {
          "output_type": "stream",
          "name": "stderr",
          "text": "Class AutoDeleteSettingSchema: This is an experimental class, and may change at any time. Please see https://aka.ms/azuremlexperimental for more information.\nClass AutoDeleteConditionSchema: This is an experimental class, and may change at any time. Please see https://aka.ms/azuremlexperimental for more information.\nClass BaseAutoDeleteSettingSchema: This is an experimental class, and may change at any time. Please see https://aka.ms/azuremlexperimental for more information.\nClass IntellectualPropertySchema: This is an experimental class, and may change at any time. Please see https://aka.ms/azuremlexperimental for more information.\nClass ProtectionLevelSchema: This is an experimental class, and may change at any time. Please see https://aka.ms/azuremlexperimental for more information.\nClass BaseIntellectualPropertySchema: This is an experimental class, and may change at any time. Please see https://aka.ms/azuremlexperimental for more information.\n"
        },
        {
          "output_type": "execute_result",
          "execution_count": 7,
          "data": {
            "text/plain": "Command({'parameters': {}, 'init': False, 'name': 'goofy_music_dcb6rtf5x2', 'type': 'command', 'status': 'Starting', 'log_files': None, 'description': None, 'tags': {}, 'properties': {'_azureml.ComputeTargetType': 'amlctrain', '_azureml.ClusterName': 'cpu-cluster-sr', 'ContentSnapshotId': '6e86aa0d-089f-4067-81d5-1fb7927fc906'}, 'print_as_yaml': False, 'id': '/subscriptions/a957f7f0-2b65-4c7d-9622-3fe86a8388b8/resourceGroups/test-resourceSR/providers/Microsoft.MachineLearningServices/workspaces/demo-azuremlSR/jobs/goofy_music_dcb6rtf5x2', 'Resource__source_path': '', 'base_path': '/mnt/batch/tasks/shared/LS_root/mounts/clusters/smreynolds20221sr/code/Users/smreynolds2022/wk9_test', 'creation_context': <azure.ai.ml.entities._system_data.SystemData object at 0x7fb3ac10f8e0>, 'serialize': <msrest.serialization.Serializer object at 0x7fb3ac10f6a0>, 'allowed_keys': {}, 'key_restriction': False, 'logger': <TraceLogger attr_dict (WARNING)>, 'display_name': 'advertise_display_name', 'experiment_name': 'advertise_exper_test', 'compute': 'cpu-cluster-sr', 'services': {'Tracking': {'endpoint': 'azureml://eastus.api.azureml.ms/mlflow/v1.0/subscriptions/a957f7f0-2b65-4c7d-9622-3fe86a8388b8/resourceGroups/test-resourceSR/providers/Microsoft.MachineLearningServices/workspaces/demo-azuremlSR?', 'type': 'Tracking'}, 'Studio': {'endpoint': 'https://ml.azure.com/runs/goofy_music_dcb6rtf5x2?wsid=/subscriptions/a957f7f0-2b65-4c7d-9622-3fe86a8388b8/resourcegroups/test-resourceSR/workspaces/demo-azuremlSR&tid=862853d3-72d2-409b-8515-287afaf07dd9', 'type': 'Studio'}}, 'comment': None, 'job_inputs': {'data': {'type': 'uri_file', 'path': 'azureml://datastores/workspaceblobstore/paths/LocalUpload/d76b5403a3179fcd4ea0e1d4ebd5e602/advertising_raw.csv', 'mode': 'ro_mount'}}, 'job_outputs': {'default': {'type': 'uri_folder', 'path': 'azureml://datastores/workspaceartifactstore/ExperimentRun/dcid.goofy_music_dcb6rtf5x2', 'mode': 'rw_mount'}}, 'inputs': {'data': <azure.ai.ml.entities._job.pipeline._io.base.NodeInput object at 0x7fb3ac10f7f0>}, 'outputs': {'default': <azure.ai.ml.entities._job.pipeline._io.base.NodeOutput object at 0x7fb3ac10f820>}, 'component': CommandComponent({'latest_version': None, 'intellectual_property': None, 'auto_increment_version': True, 'source': 'REMOTE.WORKSPACE.JOB', 'is_anonymous': False, 'auto_delete_setting': None, 'name': 'goofy_music_dcb6rtf5x2', 'description': None, 'tags': {}, 'properties': {}, 'print_as_yaml': False, 'id': None, 'Resource__source_path': None, 'base_path': '/mnt/batch/tasks/shared/LS_root/mounts/clusters/smreynolds20221sr/code/Users/smreynolds2022/wk9_test', 'creation_context': <azure.ai.ml.entities._system_data.SystemData object at 0x7fb3ac10f8e0>, 'serialize': <msrest.serialization.Serializer object at 0x7fb3ac10f3d0>, 'command': 'python main.py --data ${{inputs.data}}', 'code': '/subscriptions/a957f7f0-2b65-4c7d-9622-3fe86a8388b8/resourceGroups/test-resourceSR/providers/Microsoft.MachineLearningServices/workspaces/demo-azuremlSR/codes/343c30aa-305d-4d98-a9cc-32fcfdeb4769/versions/1', 'environment_variables': {}, 'environment': 'azureml:AzureML-sklearn-1.0-ubuntu20.04-py38-cpu@latest', 'distribution': None, 'resources': None, 'queue_settings': None, 'version': None, 'schema': None, 'type': 'command', 'display_name': 'advertise_display_name', 'is_deterministic': True, 'inputs': {'data': {'type': 'uri_file', 'path': 'azureml://datastores/workspaceblobstore/paths/LocalUpload/d76b5403a3179fcd4ea0e1d4ebd5e602/advertising_raw.csv', 'mode': 'ro_mount'}}, 'outputs': {'default': {'type': 'uri_folder', 'path': 'azureml://datastores/workspaceartifactstore/ExperimentRun/dcid.goofy_music_dcb6rtf5x2', 'mode': 'rw_mount'}}, 'yaml_str': None, 'other_parameter': {'status': 'Starting', 'parameters': {}}, 'additional_includes': []}), 'referenced_control_flow_node_instance_id': None, 'kwargs': {'services': {'Tracking': {'endpoint': 'azureml://eastus.api.azureml.ms/mlflow/v1.0/subscriptions/a957f7f0-2b65-4c7d-9622-3fe86a8388b8/resourceGroups/test-resourceSR/providers/Microsoft.MachineLearningServices/workspaces/demo-azuremlSR?', 'type': 'Tracking'}, 'Studio': {'endpoint': 'https://ml.azure.com/runs/goofy_music_dcb6rtf5x2?wsid=/subscriptions/a957f7f0-2b65-4c7d-9622-3fe86a8388b8/resourcegroups/test-resourceSR/workspaces/demo-azuremlSR&tid=862853d3-72d2-409b-8515-287afaf07dd9', 'type': 'Studio'}}, 'status': 'Starting', 'creation_context': <azure.ai.ml.entities._system_data.SystemData object at 0x7fb3ac10f8e0>}, 'instance_id': '6764101b-5cc7-4b4b-8aee-65ce4381a337', 'source': 'BUILDER', 'validate_required_input_not_provided': True, 'limits': None, 'identity': None, 'distribution': None, 'environment_variables': {}, 'environment': 'azureml:AzureML-sklearn-1.0-ubuntu20.04-py38-cpu@latest', 'resources': {'instance_count': 1, 'shm_size': '2g'}, 'queue_settings': None, 'swept': False})",
            "text/html": "<table style=\"width:100%\"><tr><th>Experiment</th><th>Name</th><th>Type</th><th>Status</th><th>Details Page</th></tr><tr><td>advertise_exper_test</td><td>goofy_music_dcb6rtf5x2</td><td>command</td><td>Starting</td><td><a href=\"https://ml.azure.com/runs/goofy_music_dcb6rtf5x2?wsid=/subscriptions/a957f7f0-2b65-4c7d-9622-3fe86a8388b8/resourcegroups/test-resourceSR/workspaces/demo-azuremlSR&amp;tid=862853d3-72d2-409b-8515-287afaf07dd9\" target=\"_blank\" rel=\"noopener\">Link to Azure Machine Learning studio</a></td></tr></table>"
          },
          "metadata": {}
        }
      ],
      "execution_count": null,
      "metadata": {
        "jupyter": {
          "source_hidden": false,
          "outputs_hidden": false
        },
        "nteract": {
          "transient": {
            "deleting": false
          }
        },
        "gather": {
          "logged": 1734287467156
        },
        "id": "dGocFoP_Kvgl",
        "outputId": "17370633-75af-4b17-8a96-d9b2182297f7"
      }
    },
    {
      "cell_type": "markdown",
      "source": [
        "**Observation:**\n",
        "- The processing job is run and a link to the jobs is also created.  The job did complete, but there are some notes for your information/warnings."
      ],
      "metadata": {
        "nteract": {
          "transient": {
            "deleting": false
          }
        },
        "id": "i4EiA2xNKvgl"
      }
    },
    {
      "cell_type": "markdown",
      "source": [
        "## Find and register the model"
      ],
      "metadata": {
        "nteract": {
          "transient": {
            "deleting": false
          }
        },
        "id": "s54PX-PwKvgl"
      }
    },
    {
      "cell_type": "code",
      "source": [
        "registered_model = ml_client.models.get(\n",
        "    name=\"gbr_advertise_predictor\",\n",
        "    version=3\n",
        ")"
      ],
      "outputs": [],
      "execution_count": null,
      "metadata": {
        "jupyter": {
          "source_hidden": false,
          "outputs_hidden": false
        },
        "nteract": {
          "transient": {
            "deleting": false
          }
        },
        "gather": {
          "logged": 1734288021013
        },
        "id": "59vOszeEKvgl"
      }
    },
    {
      "cell_type": "markdown",
      "source": [
        "**Observation:**\n",
        "- Collecting the registered_model information."
      ],
      "metadata": {
        "nteract": {
          "transient": {
            "deleting": false
          }
        },
        "id": "LSs4mC1tKvgl"
      }
    },
    {
      "cell_type": "markdown",
      "source": [
        "## Create Online Endpoint\n"
      ],
      "metadata": {
        "nteract": {
          "transient": {
            "deleting": false
          }
        },
        "id": "vM-5a2hZKvgl"
      }
    },
    {
      "cell_type": "markdown",
      "source": [
        "#### Configure the endpoint:"
      ],
      "metadata": {
        "nteract": {
          "transient": {
            "deleting": false
          }
        },
        "id": "F54hCXWjKvgl"
      }
    },
    {
      "cell_type": "code",
      "source": [
        "# Import required libraries, although some have been called earlier\n",
        "from azure.ai.ml.entities import (\n",
        "    ManagedOnlineEndpoint,\n",
        "    ManagedOnlineDeployment,\n",
        "    Model,\n",
        "    Environment,\n",
        "    CodeConfiguration,\n",
        ")\n",
        "from azure.ai.ml.constants import AssetTypes"
      ],
      "outputs": [],
      "execution_count": null,
      "metadata": {
        "jupyter": {
          "source_hidden": false,
          "outputs_hidden": false
        },
        "nteract": {
          "transient": {
            "deleting": false
          }
        },
        "gather": {
          "logged": 1734288026283
        },
        "id": "M_MW2d1-Kvgl"
      }
    },
    {
      "cell_type": "code",
      "source": [
        "# Importing the required modules\n",
        "import random\n",
        "import string\n",
        "\n",
        "# Creating a unique endpoint name by including a random suffix\n",
        "\n",
        "# Defining a list of allowed characters for the endpoint suffix\n",
        "allowed_chars = string.ascii_lowercase + string.digits\n",
        "\n",
        "# Generating a random 5-character suffix for the endpoint name by choosing\n",
        "# characters randomly from the list of allowed characters\n",
        "endpoint_suffix = \"\".join(random.choice(allowed_chars) for x in range(5))\n",
        "\n",
        "# Creating the final endpoint name by concatenating a prefix string\n",
        "# with the generated suffix string\n",
        "endpoint_name = \"advertise-endpoint-\" + endpoint_suffix"
      ],
      "outputs": [],
      "execution_count": null,
      "metadata": {
        "jupyter": {
          "source_hidden": false,
          "outputs_hidden": false
        },
        "nteract": {
          "transient": {
            "deleting": false
          }
        },
        "gather": {
          "logged": 1734288029331
        },
        "id": "7a5_PpqKKvgl"
      }
    },
    {
      "cell_type": "markdown",
      "source": [
        "**Observation:**\n",
        "- Creating an endpoint name that is unique and appends a randomly chosen 5 characters at the end of the name."
      ],
      "metadata": {
        "nteract": {
          "transient": {
            "deleting": false
          }
        },
        "id": "lQCzPfAcKvgn"
      }
    },
    {
      "cell_type": "code",
      "source": [
        "print(f\"Endpoint name: {endpoint_name}\")"
      ],
      "outputs": [
        {
          "output_type": "stream",
          "name": "stdout",
          "text": "Endpoint name: advertise-endpoint-neta6\n"
        }
      ],
      "execution_count": null,
      "metadata": {
        "jupyter": {
          "source_hidden": false,
          "outputs_hidden": false
        },
        "nteract": {
          "transient": {
            "deleting": false
          }
        },
        "gather": {
          "logged": 1734288035433
        },
        "id": "ybZaJ2isKvgn",
        "outputId": "8e8713d7-1817-465e-a892-4b2ba1553418"
      }
    },
    {
      "cell_type": "markdown",
      "source": [
        "**Observation:**\n",
        "- Printing the name of the endpoint to show the unique name with the randomly chosen extra 5 characters."
      ],
      "metadata": {
        "nteract": {
          "transient": {
            "deleting": false
          }
        },
        "id": "YUPk96e1Kvgn"
      }
    },
    {
      "cell_type": "code",
      "source": [
        "endpoint = ManagedOnlineEndpoint(\n",
        "    name=endpoint_name,\n",
        "    # Name of the endpoint, should be unique within your deployment\n",
        "    description=\"An online endpoint serving an MLflow model for the pima classification task\",\n",
        "    # A string describing the purpose of the endpoint\n",
        "    auth_mode=\"key\",\n",
        "    # Authentication mode to use for the endpoint (in this case, using an API key)\n",
        "    tags={\"foo\": \"bar\"},\n",
        "    # A dictionary of key-value pairs that can be used to tag the endpoint\n",
        ")"
      ],
      "outputs": [],
      "execution_count": null,
      "metadata": {
        "jupyter": {
          "source_hidden": false,
          "outputs_hidden": false
        },
        "nteract": {
          "transient": {
            "deleting": false
          }
        },
        "gather": {
          "logged": 1734288049671
        },
        "id": "rse2xIlgKvgn"
      }
    },
    {
      "cell_type": "markdown",
      "source": [
        "**Observation:**\n",
        "- Configuring the endpoint with a description, auth_mode, and tags."
      ],
      "metadata": {
        "nteract": {
          "transient": {
            "deleting": false
          }
        },
        "id": "IQxSyyFDKvgo"
      }
    },
    {
      "cell_type": "markdown",
      "source": [
        "#### Create the endpoint:\n"
      ],
      "metadata": {
        "nteract": {
          "transient": {
            "deleting": false
          }
        },
        "id": "D9Jp63SYKvgo"
      }
    },
    {
      "cell_type": "code",
      "source": [
        "ml_client.online_endpoints.begin_create_or_update(endpoint).result()"
      ],
      "outputs": [
        {
          "output_type": "execute_result",
          "execution_count": 13,
          "data": {
            "text/plain": "ManagedOnlineEndpoint({'public_network_access': 'Enabled', 'provisioning_state': 'Succeeded', 'scoring_uri': 'https://advertise-endpoint-neta6.eastus.inference.ml.azure.com/score', 'openapi_uri': 'https://advertise-endpoint-neta6.eastus.inference.ml.azure.com/swagger.json', 'name': 'advertise-endpoint-neta6', 'description': 'An online endpoint serving an MLflow model for the pima classification task', 'tags': {'foo': 'bar'}, 'properties': {'createdBy': 'Scharon Reynolds', 'createdAt': '2024-12-15T18:41:02.174997+0000', 'lastModifiedAt': '2024-12-15T18:41:02.174997+0000', 'azureml.onlineendpointid': '/subscriptions/a957f7f0-2b65-4c7d-9622-3fe86a8388b8/resourcegroups/test-resourcesr/providers/microsoft.machinelearningservices/workspaces/demo-azuremlsr/onlineendpoints/advertise-endpoint-neta6', 'AzureAsyncOperationUri': 'https://management.azure.com/subscriptions/a957f7f0-2b65-4c7d-9622-3fe86a8388b8/providers/Microsoft.MachineLearningServices/locations/eastus/mfeOperationsStatus/oeidp:90a3ab6c-6834-47bd-9549-333482230f0e:6947962f-cafc-402e-bc68-6d9718119af1?api-version=2022-02-01-preview'}, 'print_as_yaml': False, 'id': '/subscriptions/a957f7f0-2b65-4c7d-9622-3fe86a8388b8/resourceGroups/test-resourceSR/providers/Microsoft.MachineLearningServices/workspaces/demo-azuremlSR/onlineEndpoints/advertise-endpoint-neta6', 'Resource__source_path': '', 'base_path': '/mnt/batch/tasks/shared/LS_root/mounts/clusters/smreynolds20221sr/code/Users/smreynolds2022/wk9_test', 'creation_context': None, 'serialize': <msrest.serialization.Serializer object at 0x7fb3ac107430>, 'auth_mode': 'key', 'location': 'eastus', 'identity': <azure.ai.ml.entities._credentials.IdentityConfiguration object at 0x7fb3ac107fd0>, 'traffic': {}, 'mirror_traffic': {}, 'kind': 'Managed'})"
          },
          "metadata": {}
        }
      ],
      "execution_count": null,
      "metadata": {
        "jupyter": {
          "source_hidden": false,
          "outputs_hidden": false
        },
        "nteract": {
          "transient": {
            "deleting": false
          }
        },
        "gather": {
          "logged": 1734288152798
        },
        "id": "qHBt2mM0Kvgo",
        "outputId": "9ba18b20-8ff7-4bf4-ed49-1b2d0a1769c3"
      }
    },
    {
      "cell_type": "markdown",
      "source": [
        "**Observation:**\n",
        "- Creating the endpoint.  Information about the endpoint creation is shown above for further details."
      ],
      "metadata": {
        "nteract": {
          "transient": {
            "deleting": false
          }
        },
        "id": "MM7mxDPfKvgo"
      }
    },
    {
      "cell_type": "markdown",
      "source": [
        "## Create a blue deployment"
      ],
      "metadata": {
        "nteract": {
          "transient": {
            "deleting": false
          }
        },
        "id": "gjLH5ZTzKvgo"
      }
    },
    {
      "cell_type": "markdown",
      "source": [
        "#### Curating the deployment script:"
      ],
      "metadata": {
        "nteract": {
          "transient": {
            "deleting": false
          }
        },
        "id": "5bi6OG6aKvgo"
      }
    },
    {
      "cell_type": "code",
      "source": [
        "%%writefile {src_dir}/score.py\n",
        "\n",
        "# Import necessary libraries and modules\n",
        "import logging\n",
        "import os\n",
        "import json\n",
        "import mlflow\n",
        "from io import StringIO\n",
        "from mlflow.pyfunc.scoring_server import infer_and_parse_json_input, predictions_to_json\n",
        "\n",
        "######################LOGGER#####################\n",
        "# Set up Azure logging\n",
        "import logging\n",
        "from logging import Logger\n",
        "from opencensus.ext.azure.log_exporter import AzureLogHandler\n",
        "\n",
        "# Connect to Application Insights and set logging level to INFO\n",
        "application_insights_connection_string= 'InstrumentationKey=755d8ba3-0edc-46bf-b3c5-0a64be0da82b;IngestionEndpoint=https://eastus-8.in.applicationinsights.azure.com/;LiveEndpoint=https://eastus.livediagnostics.monitor.azure.com/;ApplicationId=d4ca8d1c-0d84-40c0-aa3d-ae0d561e8e70'\n",
        "handler = AzureLogHandler(\n",
        "connection_string=application_insights_connection_string)\n",
        "logger = logging.getLogger()\n",
        "logger.addHandler(handler)\n",
        "logger.setLevel(logging.INFO)\n",
        "\n",
        "####################################################\n",
        "\n",
        "# Define the init() function to load the MLflow model\n",
        "def init():\n",
        "    global model\n",
        "    global input_schema\n",
        "    # \"model\" is the path of the mlflow artifacts when the model was registered. For automl\n",
        "    # models, this is generally \"mlflow-model\".\n",
        "    model_path = os.path.join(os.getenv(\"AZUREML_MODEL_DIR\"), \"gbr_advertise_predictor\")\n",
        "    model = mlflow.pyfunc.load_model(model_path)\n",
        "    input_schema = model.metadata.get_input_schema()\n",
        "\n",
        "# Define the run() function to make predictions using the loaded model\n",
        "def run(raw_data):\n",
        "    # Parse input data\n",
        "    json_data = json.loads(raw_data)\n",
        "    if \"input_data\" not in json_data.keys():\n",
        "        raise Exception(\"Request must contain a top level key named 'input_data'\")\n",
        "    serving_input = json.dumps(json_data[\"input_data\"])\n",
        "    data = infer_and_parse_json_input(serving_input, input_schema)\n",
        "\n",
        "    # Make predictions\n",
        "    predictions = model.predict(data)\n",
        "\n",
        "    # Log the input data and predictions to Azure\n",
        "    logger.info(\"Data:{0},Predictions:{1}\".format(str(data),str(predictions)))\n",
        "\n",
        "    # Convert predictions to JSON format and return\n",
        "    result = StringIO()\n",
        "    predictions_to_json(predictions, result)\n",
        "    return result.getvalue()\n"
      ],
      "outputs": [
        {
          "output_type": "stream",
          "name": "stdout",
          "text": "Overwriting ./src/score.py\n"
        }
      ],
      "execution_count": null,
      "metadata": {
        "jupyter": {
          "source_hidden": false,
          "outputs_hidden": false
        },
        "nteract": {
          "transient": {
            "deleting": false
          }
        },
        "id": "ph3kLRPIKvgp",
        "outputId": "f0be5b3c-20fd-45f2-b71e-d5551fe85e87"
      }
    },
    {
      "cell_type": "markdown",
      "source": [
        "**Observation:**\n",
        "- The score.py file is created and stored in the ./src folder."
      ],
      "metadata": {
        "nteract": {
          "transient": {
            "deleting": false
          }
        },
        "id": "7KTfOnbhKvgp"
      }
    },
    {
      "cell_type": "markdown",
      "source": [
        "#### Configure the deployment:"
      ],
      "metadata": {
        "nteract": {
          "transient": {
            "deleting": false
          }
        },
        "id": "vSGKvGJ2Kvgp"
      }
    },
    {
      "cell_type": "code",
      "source": [
        "# Create a new deployment with name \"blue\"\n",
        "blue_deployment = ManagedOnlineDeployment(\n",
        "    name=\"blue\",\n",
        "    # Use the previously generated endpoint name\n",
        "    endpoint_name=endpoint_name,\n",
        "    # Use the registered model\n",
        "    model=registered_model,\n",
        "    # Use the latest environment\n",
        "    environment=\"AzureML-sklearn-1.0-ubuntu20.04-py38-cpu@latest\",\n",
        "    # Use the code in the \"./src\" directory and the \"score.py\" script\n",
        "    code_configuration=CodeConfiguration(\n",
        "        code=\"./src\", scoring_script=\"score.py\"\n",
        "    ),\n",
        "    # Use a single instance of type \"Standard_E2s_v3\"\n",
        "    instance_type=\"Standard_E2s_v3\",\n",
        "    instance_count=1,\n",
        "    # Enable Application Insights for the deployment\n",
        "    app_insights_enabled=True,\n",
        ")"
      ],
      "outputs": [],
      "execution_count": null,
      "metadata": {
        "jupyter": {
          "source_hidden": false,
          "outputs_hidden": false
        },
        "nteract": {
          "transient": {
            "deleting": false
          }
        },
        "gather": {
          "logged": 1734288176650
        },
        "id": "wiDYb2ZtKvgp"
      }
    },
    {
      "cell_type": "markdown",
      "source": [
        "**Observation:**\n",
        "- Creating a new deployment named blue with parameters."
      ],
      "metadata": {
        "nteract": {
          "transient": {
            "deleting": false
          }
        },
        "id": "IhF9RvXFKvgp"
      }
    },
    {
      "cell_type": "markdown",
      "source": [
        "#### Create the deployment:"
      ],
      "metadata": {
        "nteract": {
          "transient": {
            "deleting": false
          }
        },
        "id": "avn42kE0Kvgp"
      }
    },
    {
      "cell_type": "code",
      "source": [
        "ml_client.online_deployments.begin_create_or_update(blue_deployment).result()"
      ],
      "outputs": [
        {
          "output_type": "stream",
          "name": "stderr",
          "text": "Check: endpoint advertise-endpoint-neta6 exists\n"
        },
        {
          "output_type": "stream",
          "name": "stdout",
          "text": "................................................................................"
        },
        {
          "output_type": "execute_result",
          "execution_count": 16,
          "data": {
            "text/plain": "ManagedOnlineDeployment({'private_network_connection': None, 'package_model': False, 'provisioning_state': 'Succeeded', 'endpoint_name': 'advertise-endpoint-neta6', 'type': 'Managed', 'name': 'blue', 'description': None, 'tags': {}, 'properties': {'AzureAsyncOperationUri': 'https://management.azure.com/subscriptions/a957f7f0-2b65-4c7d-9622-3fe86a8388b8/providers/Microsoft.MachineLearningServices/locations/eastus/mfeOperationsStatus/odidp:90a3ab6c-6834-47bd-9549-333482230f0e:78119f0f-0388-4031-89a8-fe978e2176cc?api-version=2023-04-01-preview'}, 'print_as_yaml': False, 'id': '/subscriptions/a957f7f0-2b65-4c7d-9622-3fe86a8388b8/resourceGroups/test-resourceSR/providers/Microsoft.MachineLearningServices/workspaces/demo-azuremlSR/onlineEndpoints/advertise-endpoint-neta6/deployments/blue', 'Resource__source_path': '', 'base_path': '/mnt/batch/tasks/shared/LS_root/mounts/clusters/smreynolds20221sr/code/Users/smreynolds2022/wk9_test', 'creation_context': <azure.ai.ml._restclient.v2023_04_01_preview.models._models_py3.SystemData object at 0x7fb3ac10d390>, 'serialize': <msrest.serialization.Serializer object at 0x7fb3ac10d090>, 'model': '/subscriptions/a957f7f0-2b65-4c7d-9622-3fe86a8388b8/resourceGroups/test-resourceSR/providers/Microsoft.MachineLearningServices/workspaces/demo-azuremlSR/models/gbr_advertise_predictor/versions/3', 'code_configuration': {'code': '/subscriptions/a957f7f0-2b65-4c7d-9622-3fe86a8388b8/resourceGroups/test-resourceSR/providers/Microsoft.MachineLearningServices/workspaces/demo-azuremlSR/codes/343c30aa-305d-4d98-a9cc-32fcfdeb4769/versions/1'}, 'environment': '/subscriptions/a957f7f0-2b65-4c7d-9622-3fe86a8388b8/resourceGroups/test-resourceSR/providers/Microsoft.MachineLearningServices/workspaces/demo-azuremlSR/environments/AzureML-sklearn-1.0-ubuntu20.04-py38-cpu/versions/36', 'environment_variables': {'EXAMPLE_ENV_VAR': 'EXAMPLE_VALUE', 'AML_APP_INSIGHTS_KEY': '755d8ba3-0edc-46bf-b3c5-0a64be0da82b', 'AML_APP_INSIGHTS_ENDPOINT': 'https://dc.services.visualstudio.com/v2/track', 'AML_APP_INSIGHTS_ENABLED': 'true', 'AZUREML_MODEL_DIR': '/var/azureml-app/azureml-models/gbr_advertise_predictor/3', 'AZUREML_ENTRY_SCRIPT': 'score.py', 'AML_APP_ROOT': '/var/azureml-app/src'}, 'app_insights_enabled': True, 'scale_settings': <azure.ai.ml.entities._deployment.scale_settings.DefaultScaleSettings object at 0x7fb3ac10cc70>, 'request_settings': <azure.ai.ml.entities._deployment.deployment_settings.OnlineRequestSettings object at 0x7fb3ac10eef0>, 'liveness_probe': <azure.ai.ml.entities._deployment.deployment_settings.ProbeSettings object at 0x7fb3ac10c310>, 'readiness_probe': <azure.ai.ml.entities._deployment.deployment_settings.ProbeSettings object at 0x7fb3ac10f610>, 'instance_count': 1, 'arm_type': 'online_deployment', 'model_mount_path': None, 'instance_type': 'Standard_E2s_v3', 'data_collector': None, 'egress_public_network_access': 'Enabled'})"
          },
          "metadata": {}
        }
      ],
      "execution_count": null,
      "metadata": {
        "jupyter": {
          "source_hidden": false,
          "outputs_hidden": false
        },
        "nteract": {
          "transient": {
            "deleting": false
          }
        },
        "gather": {
          "logged": 1734288591890
        },
        "id": "CLwESRKYKvgp",
        "outputId": "17815abe-e5f0-470f-dc2e-0810bf041510"
      }
    },
    {
      "cell_type": "markdown",
      "source": [
        "**Observation:**\n",
        "- Creating or updating the blue deployment.  Information about this deployment are shown above for further details."
      ],
      "metadata": {
        "nteract": {
          "transient": {
            "deleting": false
          }
        },
        "id": "ldrafwpIKvgq"
      }
    },
    {
      "cell_type": "markdown",
      "source": [
        "## Test the deployment (using a \"sample_data.json\"file)"
      ],
      "metadata": {
        "nteract": {
          "transient": {
            "deleting": false
          }
        },
        "id": "aesGlYTBKvgq"
      }
    },
    {
      "cell_type": "code",
      "source": [
        "model_predictions_azure = ml_client.online_endpoints.invoke(\n",
        "        endpoint_name=endpoint_name,# Specify the name of the endpoint to invoke\n",
        "        deployment_name=\"blue\",\n",
        "        request_file=\"data/sample-request-sklearn.json\"   # Provide the file containing the sample data for making predictions\n",
        ")"
      ],
      "outputs": [],
      "execution_count": null,
      "metadata": {
        "jupyter": {
          "source_hidden": false,
          "outputs_hidden": false
        },
        "nteract": {
          "transient": {
            "deleting": false
          }
        },
        "gather": {
          "logged": 1734288674252
        },
        "id": "urdpUGGZKvgq"
      }
    },
    {
      "cell_type": "markdown",
      "source": [
        "**Observation:**\n",
        "- Configuring the blue deployment with a sample json."
      ],
      "metadata": {
        "nteract": {
          "transient": {
            "deleting": false
          }
        },
        "id": "RQV1-Or6Kvgq"
      }
    },
    {
      "cell_type": "code",
      "source": [
        "# Data is \"stored\" as a string\n",
        "model_predictions_azure"
      ],
      "outputs": [
        {
          "output_type": "execute_result",
          "execution_count": 18,
          "data": {
            "text/plain": "'\"{\\\\\"predictions\\\\\": [22.24728641988061, 26.96807766202868, 22.24728641988061, 15.631204537022658, 16.734740146543242, 21.789873803766852, 26.919070242630816, 21.789873803766852, 15.712775332194084, 16.662602784854865, 22.19522109785836, 27.0039742577298, 22.34710987631212, 15.624083644347497, 16.676526333645267, 23.70787087923063, 27.0039742577298, 24.67582813377342, 15.712775332194084]}\"'"
          },
          "metadata": {}
        }
      ],
      "execution_count": null,
      "metadata": {
        "jupyter": {
          "source_hidden": false,
          "outputs_hidden": false
        },
        "nteract": {
          "transient": {
            "deleting": false
          }
        },
        "gather": {
          "logged": 1734288678674
        },
        "id": "c-Lnfh2uKvgq",
        "outputId": "c19f96d7-f6ac-4548-8ad8-db965e96d704"
      }
    },
    {
      "cell_type": "code",
      "source": [
        "# Data is coverted to a literal\n",
        "import ast\n",
        "ast.literal_eval(model_predictions_azure)"
      ],
      "outputs": [
        {
          "output_type": "execute_result",
          "execution_count": 19,
          "data": {
            "text/plain": "'{\"predictions\": [22.24728641988061, 26.96807766202868, 22.24728641988061, 15.631204537022658, 16.734740146543242, 21.789873803766852, 26.919070242630816, 21.789873803766852, 15.712775332194084, 16.662602784854865, 22.19522109785836, 27.0039742577298, 22.34710987631212, 15.624083644347497, 16.676526333645267, 23.70787087923063, 27.0039742577298, 24.67582813377342, 15.712775332194084]}'"
          },
          "metadata": {}
        }
      ],
      "execution_count": null,
      "metadata": {
        "jupyter": {
          "source_hidden": false,
          "outputs_hidden": false
        },
        "nteract": {
          "transient": {
            "deleting": false
          }
        },
        "gather": {
          "logged": 1734288683605
        },
        "id": "xmtpAXGrKvgr",
        "outputId": "f18bc6c5-9a61-4a34-c235-900e114e998d"
      }
    },
    {
      "cell_type": "code",
      "source": [
        "# Access the converted Python data structure\n",
        "import ast\n",
        "model_predictions_azure_list_2 = ast.literal_eval(ast.literal_eval(model_predictions_azure))\n",
        "model_predictions_azure_list_2"
      ],
      "outputs": [
        {
          "output_type": "execute_result",
          "execution_count": 20,
          "data": {
            "text/plain": "{'predictions': [22.24728641988061,\n  26.96807766202868,\n  22.24728641988061,\n  15.631204537022658,\n  16.734740146543242,\n  21.789873803766852,\n  26.919070242630816,\n  21.789873803766852,\n  15.712775332194084,\n  16.662602784854865,\n  22.19522109785836,\n  27.0039742577298,\n  22.34710987631212,\n  15.624083644347497,\n  16.676526333645267,\n  23.70787087923063,\n  27.0039742577298,\n  24.67582813377342,\n  15.712775332194084]}"
          },
          "metadata": {}
        }
      ],
      "execution_count": null,
      "metadata": {
        "jupyter": {
          "source_hidden": false,
          "outputs_hidden": false
        },
        "nteract": {
          "transient": {
            "deleting": false
          }
        },
        "gather": {
          "logged": 1734288687967
        },
        "id": "LPzzqSmHKvgr",
        "outputId": "8789f190-0092-4aa0-c2ad-39d89c719c73"
      }
    },
    {
      "cell_type": "code",
      "source": [
        "# Extract the predicted values from the dictionary and convert them to a list or array-like object\n",
        "predicted_values = model_predictions_azure_list_2['predictions']"
      ],
      "outputs": [],
      "execution_count": null,
      "metadata": {
        "jupyter": {
          "source_hidden": false,
          "outputs_hidden": false
        },
        "nteract": {
          "transient": {
            "deleting": false
          }
        },
        "gather": {
          "logged": 1734288690798
        },
        "id": "F2T51qz0Kvgr"
      }
    },
    {
      "cell_type": "markdown",
      "source": [
        "**Observation:**\n",
        "- The predicted_values will be used for the test listed below in this workbook."
      ],
      "metadata": {
        "nteract": {
          "transient": {
            "deleting": false
          }
        },
        "id": "PNpaq2XxKvgr"
      }
    },
    {
      "cell_type": "markdown",
      "source": [
        "## Target Check"
      ],
      "metadata": {
        "nteract": {
          "transient": {
            "deleting": false
          }
        },
        "id": "UQhAHxFEKvgr"
      }
    },
    {
      "cell_type": "markdown",
      "source": [
        "This is a very critical check especially when the ground truth is delayed. By comparing the distribution of the predictions with the target present in the training data, we can flag deviations beyond expected amount of variation."
      ],
      "metadata": {
        "nteract": {
          "transient": {
            "deleting": false
          }
        },
        "id": "GjbRnB9HKvgr"
      }
    },
    {
      "cell_type": "markdown",
      "source": [
        "#### Compare the distribution of predictions from the endpoint with the distribution of the target in the training data (advertising_raw.csv)"
      ],
      "metadata": {
        "nteract": {
          "transient": {
            "deleting": false
          }
        },
        "id": "GpaZO2YLKvgr"
      }
    },
    {
      "cell_type": "code",
      "source": [
        "# Access the training data\n",
        "import pandas as pd\n",
        "training_data = pd.read_csv(\"data/advertising_raw.csv\")"
      ],
      "outputs": [],
      "execution_count": null,
      "metadata": {
        "jupyter": {
          "source_hidden": false,
          "outputs_hidden": false
        },
        "nteract": {
          "transient": {
            "deleting": false
          }
        },
        "gather": {
          "logged": 1734288701733
        },
        "id": "9JNXF2RpKvgr"
      }
    },
    {
      "cell_type": "code",
      "source": [
        "# The data has 200 rows and 4 columns of data\n",
        "training_data.shape"
      ],
      "outputs": [
        {
          "output_type": "execute_result",
          "execution_count": 23,
          "data": {
            "text/plain": "(200, 4)"
          },
          "metadata": {}
        }
      ],
      "execution_count": null,
      "metadata": {
        "jupyter": {
          "source_hidden": false,
          "outputs_hidden": false
        },
        "nteract": {
          "transient": {
            "deleting": false
          }
        },
        "gather": {
          "logged": 1734288704493
        },
        "id": "xHw6JGPMKvgr",
        "outputId": "58b19055-e783-4a57-e994-bd81d5fddae1"
      }
    },
    {
      "cell_type": "code",
      "source": [
        "pip install seaborn==0.12.2"
      ],
      "outputs": [
        {
          "output_type": "stream",
          "name": "stdout",
          "text": "Collecting seaborn==0.12.2\n  Downloading seaborn-0.12.2-py3-none-any.whl.metadata (5.4 kB)\nRequirement already satisfied: numpy!=1.24.0,>=1.17 in /anaconda/envs/azureml_py310_sdkv2/lib/python3.10/site-packages (from seaborn==0.12.2) (1.23.5)\nRequirement already satisfied: pandas>=0.25 in /anaconda/envs/azureml_py310_sdkv2/lib/python3.10/site-packages (from seaborn==0.12.2) (2.2.3)\nRequirement already satisfied: matplotlib!=3.6.1,>=3.1 in /anaconda/envs/azureml_py310_sdkv2/lib/python3.10/site-packages (from seaborn==0.12.2) (3.9.2)\nRequirement already satisfied: contourpy>=1.0.1 in /anaconda/envs/azureml_py310_sdkv2/lib/python3.10/site-packages (from matplotlib!=3.6.1,>=3.1->seaborn==0.12.2) (1.3.0)\nRequirement already satisfied: cycler>=0.10 in /anaconda/envs/azureml_py310_sdkv2/lib/python3.10/site-packages (from matplotlib!=3.6.1,>=3.1->seaborn==0.12.2) (0.12.1)\nRequirement already satisfied: fonttools>=4.22.0 in /anaconda/envs/azureml_py310_sdkv2/lib/python3.10/site-packages (from matplotlib!=3.6.1,>=3.1->seaborn==0.12.2) (4.53.1)\nRequirement already satisfied: kiwisolver>=1.3.1 in /anaconda/envs/azureml_py310_sdkv2/lib/python3.10/site-packages (from matplotlib!=3.6.1,>=3.1->seaborn==0.12.2) (1.4.7)\nRequirement already satisfied: packaging>=20.0 in /anaconda/envs/azureml_py310_sdkv2/lib/python3.10/site-packages (from matplotlib!=3.6.1,>=3.1->seaborn==0.12.2) (24.1)\nRequirement already satisfied: pillow>=8 in /anaconda/envs/azureml_py310_sdkv2/lib/python3.10/site-packages (from matplotlib!=3.6.1,>=3.1->seaborn==0.12.2) (10.4.0)\nRequirement already satisfied: pyparsing>=2.3.1 in /anaconda/envs/azureml_py310_sdkv2/lib/python3.10/site-packages (from matplotlib!=3.6.1,>=3.1->seaborn==0.12.2) (3.1.4)\nRequirement already satisfied: python-dateutil>=2.7 in /anaconda/envs/azureml_py310_sdkv2/lib/python3.10/site-packages (from matplotlib!=3.6.1,>=3.1->seaborn==0.12.2) (2.9.0)\nRequirement already satisfied: pytz>=2020.1 in /anaconda/envs/azureml_py310_sdkv2/lib/python3.10/site-packages (from pandas>=0.25->seaborn==0.12.2) (2024.2)\nRequirement already satisfied: tzdata>=2022.7 in /anaconda/envs/azureml_py310_sdkv2/lib/python3.10/site-packages (from pandas>=0.25->seaborn==0.12.2) (2024.1)\nRequirement already satisfied: six>=1.5 in /anaconda/envs/azureml_py310_sdkv2/lib/python3.10/site-packages (from python-dateutil>=2.7->matplotlib!=3.6.1,>=3.1->seaborn==0.12.2) (1.16.0)\nDownloading seaborn-0.12.2-py3-none-any.whl (293 kB)\nInstalling collected packages: seaborn\nSuccessfully installed seaborn-0.12.2\nNote: you may need to restart the kernel to use updated packages.\n"
        }
      ],
      "execution_count": null,
      "metadata": {
        "jupyter": {
          "source_hidden": false,
          "outputs_hidden": false
        },
        "nteract": {
          "transient": {
            "deleting": false
          }
        },
        "gather": {
          "logged": 1734288757430
        },
        "id": "red4RvmVKvgs",
        "outputId": "4feff0f6-2e54-448e-84a1-4c0bbe270c06"
      }
    },
    {
      "cell_type": "markdown",
      "source": [
        "**Observation:**\n",
        "- Installing the seaborn 0.12.2 version"
      ],
      "metadata": {
        "nteract": {
          "transient": {
            "deleting": false
          }
        },
        "id": "7zZDMedjKvgs"
      }
    },
    {
      "cell_type": "code",
      "source": [
        "# General imports required for testing\n",
        "import json\n",
        "import ast\n",
        "import logging\n",
        "import numpy as np\n",
        "import pandas as pd\n",
        "import matplotlib.pyplot as plt\n",
        "import seaborn as sns\n",
        "from scipy.stats import ks_2samp, chi2_contingency, ttest_rel"
      ],
      "outputs": [],
      "execution_count": null,
      "metadata": {
        "jupyter": {
          "source_hidden": false,
          "outputs_hidden": false
        },
        "nteract": {
          "transient": {
            "deleting": false
          }
        },
        "gather": {
          "logged": 1734288856050
        },
        "id": "eOU1IFC6Kvgs"
      }
    },
    {
      "cell_type": "code",
      "source": [
        "# Boxplots of the Distribution of Sales of Training Data, and the Distribution of predicted Sales from the Deployed Model\n",
        "plt.figure(figsize=(9, 4))\n",
        "plt.subplot(211)\n",
        "sns.boxplot(x='Sales', data=training_data)\n",
        "plt.title(\"Distribution of Sales in training data\")\n",
        "plt.subplot(212)\n",
        "sns.boxplot(x=predicted_values, color='#DA70D6')\n",
        "plt.title(\"Distribution of predicted Sales from the deployed model\")\n",
        "plt.tight_layout()"
      ],
      "outputs": [
        {
          "output_type": "display_data",
          "data": {
            "text/plain": "<Figure size 900x400 with 2 Axes>",
            "image/png": "[encoded data removed]"
          },
          "metadata": {}
        }
      ],
      "execution_count": null,
      "metadata": {
        "jupyter": {
          "source_hidden": false,
          "outputs_hidden": false
        },
        "nteract": {
          "transient": {
            "deleting": false
          }
        },
        "gather": {
          "logged": 1734289247468
        },
        "id": "0fHltjuaKvgs",
        "outputId": "d7043e30-2ff0-48bf-cc50-bcfbbc902fc9"
      }
    },
    {
      "cell_type": "markdown",
      "source": [
        "**Observation:**\n",
        "- Since the box-plots of the training data and predicted sales do not overlap well, this could be a warning sign that the target distribution in production has drifted away from what the model was trained on, which could lead to poor predictions."
      ],
      "metadata": {
        "nteract": {
          "transient": {
            "deleting": false
          }
        },
        "id": "Wd_XcC5NKvgs"
      }
    },
    {
      "cell_type": "code",
      "source": [
        "# Plot comparing the Data Distribution between the Training targets and the Live predictions\n",
        "plt.figure(figsize=(9, 6))\n",
        "sns.kdeplot(x='Sales', data=training_data, label='training targets')\n",
        "sns.kdeplot(x=predicted_values, label='live predictions', alpha=.7)\n",
        "plt.legend()\n",
        "plt.title('Comparing data distributions')\n",
        "plt.tight_layout()"
      ],
      "outputs": [
        {
          "output_type": "stream",
          "name": "stderr",
          "text": "/anaconda/envs/azureml_py310_sdkv2/lib/python3.10/site-packages/seaborn/_oldcore.py:1119: FutureWarning: use_inf_as_na option is deprecated and will be removed in a future version. Convert inf values to NaN before operating instead.\n  with pd.option_context('mode.use_inf_as_na', True):\n/anaconda/envs/azureml_py310_sdkv2/lib/python3.10/site-packages/seaborn/_oldcore.py:1119: FutureWarning: use_inf_as_na option is deprecated and will be removed in a future version. Convert inf values to NaN before operating instead.\n  with pd.option_context('mode.use_inf_as_na', True):\n"
        },
        {
          "output_type": "display_data",
          "data": {
            "text/plain": "<Figure size 900x600 with 1 Axes>",
            "image/png": "[encoded data removed]"
          },
          "metadata": {}
        }
      ],
      "execution_count": null,
      "metadata": {
        "jupyter": {
          "source_hidden": false,
          "outputs_hidden": false
        },
        "nteract": {
          "transient": {
            "deleting": false
          }
        },
        "gather": {
          "logged": 1734289618196
        },
        "id": "wA9i0DaLKvgs",
        "outputId": "ee60509a-6ca3-4512-c345-6f0637e11086"
      }
    },
    {
      "cell_type": "markdown",
      "source": [
        "Note: Using plots state difference between the predictions coming from the endpoint and the distribution of targets in the training data. (Conclusion)"
      ],
      "metadata": {
        "nteract": {
          "transient": {
            "deleting": false
          }
        },
        "id": "mKZ9m4b1Kvgs"
      }
    },
    {
      "cell_type": "markdown",
      "source": [
        "**Observation:**\n",
        "- The shift to the right of the live data could suggest that the live data is moving towards higher values of the target variable compared to the training data.\n",
        "-  The double peak of the live data could suggest that the distribution of the target variable in the live data is fundamentally different from the training data."
      ],
      "metadata": {
        "nteract": {
          "transient": {
            "deleting": false
          }
        },
        "id": "Pt3v5Q1bKvgt"
      }
    },
    {
      "cell_type": "markdown",
      "source": [
        "#### Kolmogorov-Smirnov test:"
      ],
      "metadata": {
        "nteract": {
          "transient": {
            "deleting": false
          }
        },
        "id": "JvhyQibUKvgt"
      }
    },
    {
      "cell_type": "markdown",
      "source": [
        "To confirm the absence of target drift, we use the Kolmogorov-Smirnov (K-S) test. K-S test is a statistical method used to compare two probability distributions and determine if they significantly differ from each other. In the context of testing the difference between the distributions of model predictions and the distribution of targets in training data, the K-S test can help assess if there is any deviation or drift."
      ],
      "metadata": {
        "nteract": {
          "transient": {
            "deleting": false
          }
        },
        "id": "VXfFKbFvKvgt"
      }
    },
    {
      "cell_type": "markdown",
      "source": [
        "Plot:"
      ],
      "metadata": {
        "nteract": {
          "transient": {
            "deleting": false
          }
        },
        "id": "3W_Foh8_Kvgt"
      }
    },
    {
      "cell_type": "code",
      "source": [
        "# Comparing the cumulative data distributions of the training targets and the live predictions\n",
        "plt.figure(figsize=(9, 6))\n",
        "sns.ecdfplot(x='Sales', data=training_data, label='training targets')\n",
        "sns.ecdfplot(x=predicted_values, label='live predictions', alpha=.7)\n",
        "plt.legend()\n",
        "plt.title('Comparing cumulative data distributions')\n",
        "plt.tight_layout()"
      ],
      "outputs": [
        {
          "output_type": "stream",
          "name": "stderr",
          "text": "/anaconda/envs/azureml_py310_sdkv2/lib/python3.10/site-packages/seaborn/_oldcore.py:1119: FutureWarning: use_inf_as_na option is deprecated and will be removed in a future version. Convert inf values to NaN before operating instead.\n  with pd.option_context('mode.use_inf_as_na', True):\n/anaconda/envs/azureml_py310_sdkv2/lib/python3.10/site-packages/seaborn/_oldcore.py:1119: FutureWarning: use_inf_as_na option is deprecated and will be removed in a future version. Convert inf values to NaN before operating instead.\n  with pd.option_context('mode.use_inf_as_na', True):\n"
        },
        {
          "output_type": "display_data",
          "data": {
            "text/plain": "<Figure size 900x600 with 1 Axes>",
            "image/png": "[encoded data removed]"
          },
          "metadata": {}
        }
      ],
      "execution_count": null,
      "metadata": {
        "jupyter": {
          "source_hidden": false,
          "outputs_hidden": false
        },
        "nteract": {
          "transient": {
            "deleting": false
          }
        },
        "gather": {
          "logged": 1734290014146
        },
        "id": "Ip7014T8Kvgt",
        "outputId": "5d4ac9e4-8852-46ab-9b40-cf59aeaadd51"
      }
    },
    {
      "cell_type": "markdown",
      "source": [
        "**Observation:**\n",
        "- With the live predictions shifted to the right and stair-stepping while the training target is more of a curve could indicate live data drift or feature drift."
      ],
      "metadata": {
        "nteract": {
          "transient": {
            "deleting": false
          }
        },
        "id": "KdFojtiUKvgt"
      }
    },
    {
      "cell_type": "markdown",
      "source": [
        "K-S Test:"
      ],
      "metadata": {
        "nteract": {
          "transient": {
            "deleting": false
          }
        },
        "id": "5ISNBadUKvgt"
      }
    },
    {
      "cell_type": "code",
      "source": [
        "# Collecting the p_value for the K-S Test\n",
        "statistic, p_value = ks_2samp(\n",
        "            training_data[\"Sales\"].values,\n",
        "            predicted_values\n",
        ")"
      ],
      "outputs": [],
      "execution_count": null,
      "metadata": {
        "jupyter": {
          "source_hidden": false,
          "outputs_hidden": false
        },
        "nteract": {
          "transient": {
            "deleting": false
          }
        },
        "gather": {
          "logged": 1734290034210
        },
        "id": "x8APryPMKvgt"
      }
    },
    {
      "cell_type": "code",
      "source": [
        "# Showing the p_value\n",
        "p_value"
      ],
      "outputs": [
        {
          "output_type": "execute_result",
          "execution_count": 43,
          "data": {
            "text/plain": "6.953449435462539e-08"
          },
          "metadata": {}
        }
      ],
      "execution_count": null,
      "metadata": {
        "jupyter": {
          "source_hidden": false,
          "outputs_hidden": false
        },
        "nteract": {
          "transient": {
            "deleting": false
          }
        },
        "gather": {
          "logged": 1734290036671
        },
        "id": "xsPMgY6UKvgu",
        "outputId": "1e316861-d369-41ea-9d21-96c975d0e195"
      }
    },
    {
      "cell_type": "markdown",
      "source": [
        "Note: Using p-value outcome, state difference between the model predictions and the target distribution in the training data"
      ],
      "metadata": {
        "nteract": {
          "transient": {
            "deleting": false
          }
        },
        "id": "EYY65tXcKvgu"
      }
    },
    {
      "cell_type": "markdown",
      "source": [
        "**Observation:**\n",
        "- Since the p_value is < 0.05, we can say that the there is a difference between the live predictions and the training targets.  The training targets need to be reviewed especially for outliers and re-evaluated."
      ],
      "metadata": {
        "nteract": {
          "transient": {
            "deleting": false
          }
        },
        "id": "ibX3oq_oKvgu"
      }
    },
    {
      "cell_type": "markdown",
      "source": [
        "## Data Drift"
      ],
      "metadata": {
        "nteract": {
          "transient": {
            "deleting": false
          }
        },
        "id": "xIKM7bQkKvgu"
      }
    },
    {
      "cell_type": "markdown",
      "source": [
        "We define data drift as the phenomenon of deviation or changes occurring between the distribution or characteristics of the training features and the corresponding live features used for real-time predictions or analysis. It indicates a shift in the underlying data generating process and can have significant implications for the performance and reliability of machine learning models or data-driven systems."
      ],
      "metadata": {
        "nteract": {
          "transient": {
            "deleting": false
          }
        },
        "id": "FqafBmETKvgu"
      }
    },
    {
      "cell_type": "markdown",
      "source": [
        "Note: Use \"advertising_synthetic.csv\" to check for data drift"
      ],
      "metadata": {
        "nteract": {
          "transient": {
            "deleting": false
          }
        },
        "id": "UPqiWypFKvgv"
      }
    },
    {
      "cell_type": "code",
      "source": [
        "# Collecting the data from the synthetic file\n",
        "sample = pd.read_csv(\"data/advertising_synthetic.csv\")"
      ],
      "outputs": [],
      "execution_count": null,
      "metadata": {
        "jupyter": {
          "source_hidden": false,
          "outputs_hidden": false
        },
        "nteract": {
          "transient": {
            "deleting": false
          }
        },
        "gather": {
          "logged": 1734290522594
        },
        "id": "yd25tpG4Kvgv"
      }
    },
    {
      "cell_type": "code",
      "source": [
        "# Showing the information about the data in the synthetic file\n",
        "sample.info()"
      ],
      "outputs": [
        {
          "output_type": "stream",
          "name": "stdout",
          "text": "<class 'pandas.core.frame.DataFrame'>\nRangeIndex: 49 entries, 0 to 48\nData columns (total 4 columns):\n #   Column     Non-Null Count  Dtype  \n---  ------     --------------  -----  \n 0   TV         49 non-null     float64\n 1   Radio      49 non-null     float64\n 2   Newspaper  49 non-null     float64\n 3   Sales      49 non-null     float64\ndtypes: float64(4)\nmemory usage: 1.7 KB\n"
        }
      ],
      "execution_count": null,
      "metadata": {
        "jupyter": {
          "source_hidden": false,
          "outputs_hidden": false
        },
        "nteract": {
          "transient": {
            "deleting": false
          }
        },
        "gather": {
          "logged": 1734290524799
        },
        "id": "N2i9ROgvKvgv",
        "outputId": "5b225bbd-a058-4595-9160-ef234fd75d37"
      }
    },
    {
      "cell_type": "code",
      "source": [
        "# Showing the function of the crosstab feature, but this is usually used between categorial features\n",
        "# and there are no categorical features in this dataset\n",
        "pd.crosstab(training_data['Newspaper'], sample['Newspaper'])"
      ],
      "outputs": [
        {
          "output_type": "execute_result",
          "execution_count": 46,
          "data": {
            "text/plain": "Newspaper  0.3    1.0    1.8    4.0    5.0    7.2    7.4    8.5    11.6   \\\nNewspaper                                                                  \n0.3            1      0      0      0      0      0      0      0      0   \n1.0            0      1      0      0      0      0      0      0      0   \n1.8            0      0      1      0      0      0      0      0      0   \n4.0            0      0      0      1      0      0      0      0      0   \n5.0            0      0      0      0      1      0      0      0      0   \n7.2            0      0      0      0      0      1      0      0      0   \n7.4            0      0      0      0      0      0      1      0      0   \n8.5            0      0      0      0      0      0      0      1      0   \n11.6           0      0      0      0      0      0      0      0      1   \n12.6           0      0      0      0      0      0      0      0      0   \n18.3           0      0      0      0      0      0      0      0      0   \n18.5           0      0      0      0      0      0      0      0      0   \n19.1           0      0      0      0      0      0      0      0      0   \n19.5           0      0      0      0      0      0      0      0      0   \n21.2           0      0      0      0      0      0      0      0      0   \n22.9           0      0      0      0      0      0      0      0      0   \n23.5           0      0      0      0      0      0      0      0      0   \n24.2           0      0      0      0      0      0      0      0      0   \n26.2           0      0      0      0      0      0      0      0      0   \n26.4           0      0      0      0      0      0      0      0      0   \n30.0           0      0      0      0      0      0      0      0      0   \n31.5           0      0      0      0      0      0      0      0      0   \n31.6           0      0      0      0      0      0      0      0      0   \n32.0           0      0      0      0      0      0      0      0      0   \n35.1           0      0      0      0      0      0      0      0      0   \n35.7           0      0      0      0      0      0      0      0      0   \n38.6           0      0      0      0      0      0      0      0      0   \n38.7           0      0      0      0      0      0      0      0      0   \n40.8           0      0      0      0      0      0      0      0      0   \n43.2           0      0      0      0      0      0      0      0      0   \n43.3           0      0      0      0      0      0      0      0      0   \n45.1           0      0      0      0      0      0      0      0      0   \n45.7           0      0      0      0      0      0      0      0      0   \n46.0           0      0      0      0      0      0      0      0      0   \n49.6           0      0      0      0      0      0      0      0      0   \n49.9           0      0      0      0      0      0      0      0      0   \n52.9           0      0      0      0      0      0      0      0      0   \n53.4           0      0      0      0      0      0      0      0      0   \n55.8           0      0      0      0      0      0      0      0      0   \n58.4           0      0      0      0      0      0      0      0      0   \n58.5           0      0      0      0      0      0      0      0      0   \n65.9           0      0      0      0      0      0      0      0      0   \n69.2           0      0      0      0      0      0      0      0      0   \n69.3           0      0      0      0      0      0      0      0      0   \n75.0           0      0      0      0      0      0      0      0      0   \n114.0          0      0      0      0      0      0      0      0      0   \n\nNewspaper  12.6   ...  52.9   53.4   55.8   58.4   58.5   65.9   69.2   69.3   \\\nNewspaper         ...                                                           \n0.3            0  ...      0      0      0      0      0      0      0      0   \n1.0            0  ...      0      0      0      0      0      0      0      0   \n1.8            0  ...      0      0      0      0      0      0      0      0   \n4.0            0  ...      0      0      0      0      0      0      0      0   \n5.0            0  ...      0      0      0      0      0      0      0      0   \n7.2            0  ...      0      0      0      0      0      0      0      0   \n7.4            0  ...      0      0      0      0      0      0      0      0   \n8.5            0  ...      0      0      0      0      0      0      0      0   \n11.6           0  ...      0      0      0      0      0      0      0      0   \n12.6           1  ...      0      0      0      0      0      0      0      0   \n18.3           0  ...      0      0      0      0      0      0      0      0   \n18.5           0  ...      0      0      0      0      0      0      0      0   \n19.1           0  ...      0      0      0      0      0      0      0      0   \n19.5           0  ...      0      0      0      0      0      0      0      0   \n21.2           0  ...      0      0      0      0      0      0      0      0   \n22.9           0  ...      0      0      0      0      0      0      0      0   \n23.5           0  ...      0      0      0      0      0      0      0      0   \n24.2           0  ...      0      0      0      0      0      0      0      0   \n26.2           0  ...      0      0      0      0      0      0      0      0   \n26.4           0  ...      0      0      0      0      0      0      0      0   \n30.0           0  ...      0      0      0      0      0      0      0      0   \n31.5           0  ...      0      0      0      0      0      0      0      0   \n31.6           0  ...      0      0      0      0      0      0      0      0   \n32.0           0  ...      0      0      0      0      0      0      0      0   \n35.1           0  ...      0      0      0      0      0      0      0      0   \n35.7           0  ...      0      0      0      0      0      0      0      0   \n38.6           0  ...      0      0      0      0      0      0      0      0   \n38.7           0  ...      0      0      0      0      0      0      0      0   \n40.8           0  ...      0      0      0      0      0      0      0      0   \n43.2           0  ...      0      0      0      0      0      0      0      0   \n43.3           0  ...      0      0      0      0      0      0      0      0   \n45.1           0  ...      0      0      0      0      0      0      0      0   \n45.7           0  ...      0      0      0      0      0      0      0      0   \n46.0           0  ...      0      0      0      0      0      0      0      0   \n49.6           0  ...      0      0      0      0      0      0      0      0   \n49.9           0  ...      0      0      0      0      0      0      0      0   \n52.9           0  ...      1      0      0      0      0      0      0      0   \n53.4           0  ...      0      1      0      0      0      0      0      0   \n55.8           0  ...      0      0      1      0      0      0      0      0   \n58.4           0  ...      0      0      0      1      0      0      0      0   \n58.5           0  ...      0      0      0      0      1      0      0      0   \n65.9           0  ...      0      0      0      0      0      1      0      0   \n69.2           0  ...      0      0      0      0      0      0      1      0   \n69.3           0  ...      0      0      0      0      0      0      0      1   \n75.0           0  ...      0      0      0      0      0      0      0      0   \n114.0          0  ...      0      0      0      0      0      0      0      0   \n\nNewspaper  75.0   114.0  \nNewspaper                \n0.3            0      0  \n1.0            0      0  \n1.8            0      0  \n4.0            0      0  \n5.0            0      0  \n7.2            0      0  \n7.4            0      0  \n8.5            0      0  \n11.6           0      0  \n12.6           0      0  \n18.3           0      0  \n18.5           0      0  \n19.1           0      0  \n19.5           0      0  \n21.2           0      0  \n22.9           0      0  \n23.5           0      0  \n24.2           0      0  \n26.2           0      0  \n26.4           0      0  \n30.0           0      0  \n31.5           0      0  \n31.6           0      0  \n32.0           0      0  \n35.1           0      0  \n35.7           0      0  \n38.6           0      0  \n38.7           0      0  \n40.8           0      0  \n43.2           0      0  \n43.3           0      0  \n45.1           0      0  \n45.7           0      0  \n46.0           0      0  \n49.6           0      0  \n49.9           0      0  \n52.9           0      0  \n53.4           0      0  \n55.8           0      0  \n58.4           0      0  \n58.5           0      0  \n65.9           0      0  \n69.2           0      0  \n69.3           0      0  \n75.0           1      0  \n114.0          0      1  \n\n[46 rows x 46 columns]",
            "text/html": "<div>\n<style scoped>\n    .dataframe tbody tr th:only-of-type {\n        vertical-align: middle;\n    }\n\n    .dataframe tbody tr th {\n        vertical-align: top;\n    }\n\n    .dataframe thead th {\n        text-align: right;\n    }\n</style>\n<table border=\"1\" class=\"dataframe\">\n  <thead>\n    <tr style=\"text-align: right;\">\n      <th>Newspaper</th>\n      <th>0.3</th>\n      <th>1.0</th>\n      <th>1.8</th>\n      <th>4.0</th>\n      <th>5.0</th>\n      <th>7.2</th>\n      <th>7.4</th>\n      <th>8.5</th>\n      <th>11.6</th>\n      <th>12.6</th>\n      <th>...</th>\n      <th>52.9</th>\n      <th>53.4</th>\n      <th>55.8</th>\n      <th>58.4</th>\n      <th>58.5</th>\n      <th>65.9</th>\n      <th>69.2</th>\n      <th>69.3</th>\n      <th>75.0</th>\n      <th>114.0</th>\n    </tr>\n    <tr>\n      <th>Newspaper</th>\n      <th></th>\n      <th></th>\n      <th></th>\n      <th></th>\n      <th></th>\n      <th></th>\n      <th></th>\n      <th></th>\n      <th></th>\n      <th></th>\n      <th></th>\n      <th></th>\n      <th></th>\n      <th></th>\n      <th></th>\n      <th></th>\n      <th></th>\n      <th></th>\n      <th></th>\n      <th></th>\n      <th></th>\n    </tr>\n  </thead>\n  <tbody>\n    <tr>\n      <th>0.3</th>\n      <td>1</td>\n      <td>0</td>\n      <td>0</td>\n      <td>0</td>\n      <td>0</td>\n      <td>0</td>\n      <td>0</td>\n      <td>0</td>\n      <td>0</td>\n      <td>0</td>\n      <td>...</td>\n      <td>0</td>\n      <td>0</td>\n      <td>0</td>\n      <td>0</td>\n      <td>0</td>\n      <td>0</td>\n      <td>0</td>\n      <td>0</td>\n      <td>0</td>\n      <td>0</td>\n    </tr>\n    <tr>\n      <th>1.0</th>\n      <td>0</td>\n      <td>1</td>\n      <td>0</td>\n      <td>0</td>\n      <td>0</td>\n      <td>0</td>\n      <td>0</td>\n      <td>0</td>\n      <td>0</td>\n      <td>0</td>\n      <td>...</td>\n      <td>0</td>\n      <td>0</td>\n      <td>0</td>\n      <td>0</td>\n      <td>0</td>\n      <td>0</td>\n      <td>0</td>\n      <td>0</td>\n      <td>0</td>\n      <td>0</td>\n    </tr>\n    <tr>\n      <th>1.8</th>\n      <td>0</td>\n      <td>0</td>\n      <td>1</td>\n      <td>0</td>\n      <td>0</td>\n      <td>0</td>\n      <td>0</td>\n      <td>0</td>\n      <td>0</td>\n      <td>0</td>\n      <td>...</td>\n      <td>0</td>\n      <td>0</td>\n      <td>0</td>\n      <td>0</td>\n      <td>0</td>\n      <td>0</td>\n      <td>0</td>\n      <td>0</td>\n      <td>0</td>\n      <td>0</td>\n    </tr>\n    <tr>\n      <th>4.0</th>\n      <td>0</td>\n      <td>0</td>\n      <td>0</td>\n      <td>1</td>\n      <td>0</td>\n      <td>0</td>\n      <td>0</td>\n      <td>0</td>\n      <td>0</td>\n      <td>0</td>\n      <td>...</td>\n      <td>0</td>\n      <td>0</td>\n      <td>0</td>\n      <td>0</td>\n      <td>0</td>\n      <td>0</td>\n      <td>0</td>\n      <td>0</td>\n      <td>0</td>\n      <td>0</td>\n    </tr>\n    <tr>\n      <th>5.0</th>\n      <td>0</td>\n      <td>0</td>\n      <td>0</td>\n      <td>0</td>\n      <td>1</td>\n      <td>0</td>\n      <td>0</td>\n      <td>0</td>\n      <td>0</td>\n      <td>0</td>\n      <td>...</td>\n      <td>0</td>\n      <td>0</td>\n      <td>0</td>\n      <td>0</td>\n      <td>0</td>\n      <td>0</td>\n      <td>0</td>\n      <td>0</td>\n      <td>0</td>\n      <td>0</td>\n    </tr>\n    <tr>\n      <th>7.2</th>\n      <td>0</td>\n      <td>0</td>\n      <td>0</td>\n      <td>0</td>\n      <td>0</td>\n      <td>1</td>\n      <td>0</td>\n      <td>0</td>\n      <td>0</td>\n      <td>0</td>\n      <td>...</td>\n      <td>0</td>\n      <td>0</td>\n      <td>0</td>\n      <td>0</td>\n      <td>0</td>\n      <td>0</td>\n      <td>0</td>\n      <td>0</td>\n      <td>0</td>\n      <td>0</td>\n    </tr>\n    <tr>\n      <th>7.4</th>\n      <td>0</td>\n      <td>0</td>\n      <td>0</td>\n      <td>0</td>\n      <td>0</td>\n      <td>0</td>\n      <td>1</td>\n      <td>0</td>\n      <td>0</td>\n      <td>0</td>\n      <td>...</td>\n      <td>0</td>\n      <td>0</td>\n      <td>0</td>\n      <td>0</td>\n      <td>0</td>\n      <td>0</td>\n      <td>0</td>\n      <td>0</td>\n      <td>0</td>\n      <td>0</td>\n    </tr>\n    <tr>\n      <th>8.5</th>\n      <td>0</td>\n      <td>0</td>\n      <td>0</td>\n      <td>0</td>\n      <td>0</td>\n      <td>0</td>\n      <td>0</td>\n      <td>1</td>\n      <td>0</td>\n      <td>0</td>\n      <td>...</td>\n      <td>0</td>\n      <td>0</td>\n      <td>0</td>\n      <td>0</td>\n      <td>0</td>\n      <td>0</td>\n      <td>0</td>\n      <td>0</td>\n      <td>0</td>\n      <td>0</td>\n    </tr>\n    <tr>\n      <th>11.6</th>\n      <td>0</td>\n      <td>0</td>\n      <td>0</td>\n      <td>0</td>\n      <td>0</td>\n      <td>0</td>\n      <td>0</td>\n      <td>0</td>\n      <td>1</td>\n      <td>0</td>\n      <td>...</td>\n      <td>0</td>\n      <td>0</td>\n      <td>0</td>\n      <td>0</td>\n      <td>0</td>\n      <td>0</td>\n      <td>0</td>\n      <td>0</td>\n      <td>0</td>\n      <td>0</td>\n    </tr>\n    <tr>\n      <th>12.6</th>\n      <td>0</td>\n      <td>0</td>\n      <td>0</td>\n      <td>0</td>\n      <td>0</td>\n      <td>0</td>\n      <td>0</td>\n      <td>0</td>\n      <td>0</td>\n      <td>1</td>\n      <td>...</td>\n      <td>0</td>\n      <td>0</td>\n      <td>0</td>\n      <td>0</td>\n      <td>0</td>\n      <td>0</td>\n      <td>0</td>\n      <td>0</td>\n      <td>0</td>\n      <td>0</td>\n    </tr>\n    <tr>\n      <th>18.3</th>\n      <td>0</td>\n      <td>0</td>\n      <td>0</td>\n      <td>0</td>\n      <td>0</td>\n      <td>0</td>\n      <td>0</td>\n      <td>0</td>\n      <td>0</td>\n      <td>0</td>\n      <td>...</td>\n      <td>0</td>\n      <td>0</td>\n      <td>0</td>\n      <td>0</td>\n      <td>0</td>\n      <td>0</td>\n      <td>0</td>\n      <td>0</td>\n      <td>0</td>\n      <td>0</td>\n    </tr>\n    <tr>\n      <th>18.5</th>\n      <td>0</td>\n      <td>0</td>\n      <td>0</td>\n      <td>0</td>\n      <td>0</td>\n      <td>0</td>\n      <td>0</td>\n      <td>0</td>\n      <td>0</td>\n      <td>0</td>\n      <td>...</td>\n      <td>0</td>\n      <td>0</td>\n      <td>0</td>\n      <td>0</td>\n      <td>0</td>\n      <td>0</td>\n      <td>0</td>\n      <td>0</td>\n      <td>0</td>\n      <td>0</td>\n    </tr>\n    <tr>\n      <th>19.1</th>\n      <td>0</td>\n      <td>0</td>\n      <td>0</td>\n      <td>0</td>\n      <td>0</td>\n      <td>0</td>\n      <td>0</td>\n      <td>0</td>\n      <td>0</td>\n      <td>0</td>\n      <td>...</td>\n      <td>0</td>\n      <td>0</td>\n      <td>0</td>\n      <td>0</td>\n      <td>0</td>\n      <td>0</td>\n      <td>0</td>\n      <td>0</td>\n      <td>0</td>\n      <td>0</td>\n    </tr>\n    <tr>\n      <th>19.5</th>\n      <td>0</td>\n      <td>0</td>\n      <td>0</td>\n      <td>0</td>\n      <td>0</td>\n      <td>0</td>\n      <td>0</td>\n      <td>0</td>\n      <td>0</td>\n      <td>0</td>\n      <td>...</td>\n      <td>0</td>\n      <td>0</td>\n      <td>0</td>\n      <td>0</td>\n      <td>0</td>\n      <td>0</td>\n      <td>0</td>\n      <td>0</td>\n      <td>0</td>\n      <td>0</td>\n    </tr>\n    <tr>\n      <th>21.2</th>\n      <td>0</td>\n      <td>0</td>\n      <td>0</td>\n      <td>0</td>\n      <td>0</td>\n      <td>0</td>\n      <td>0</td>\n      <td>0</td>\n      <td>0</td>\n      <td>0</td>\n      <td>...</td>\n      <td>0</td>\n      <td>0</td>\n      <td>0</td>\n      <td>0</td>\n      <td>0</td>\n      <td>0</td>\n      <td>0</td>\n      <td>0</td>\n      <td>0</td>\n      <td>0</td>\n    </tr>\n    <tr>\n      <th>22.9</th>\n      <td>0</td>\n      <td>0</td>\n      <td>0</td>\n      <td>0</td>\n      <td>0</td>\n      <td>0</td>\n      <td>0</td>\n      <td>0</td>\n      <td>0</td>\n      <td>0</td>\n      <td>...</td>\n      <td>0</td>\n      <td>0</td>\n      <td>0</td>\n      <td>0</td>\n      <td>0</td>\n      <td>0</td>\n      <td>0</td>\n      <td>0</td>\n      <td>0</td>\n      <td>0</td>\n    </tr>\n    <tr>\n      <th>23.5</th>\n      <td>0</td>\n      <td>0</td>\n      <td>0</td>\n      <td>0</td>\n      <td>0</td>\n      <td>0</td>\n      <td>0</td>\n      <td>0</td>\n      <td>0</td>\n      <td>0</td>\n      <td>...</td>\n      <td>0</td>\n      <td>0</td>\n      <td>0</td>\n      <td>0</td>\n      <td>0</td>\n      <td>0</td>\n      <td>0</td>\n      <td>0</td>\n      <td>0</td>\n      <td>0</td>\n    </tr>\n    <tr>\n      <th>24.2</th>\n      <td>0</td>\n      <td>0</td>\n      <td>0</td>\n      <td>0</td>\n      <td>0</td>\n      <td>0</td>\n      <td>0</td>\n      <td>0</td>\n      <td>0</td>\n      <td>0</td>\n      <td>...</td>\n      <td>0</td>\n      <td>0</td>\n      <td>0</td>\n      <td>0</td>\n      <td>0</td>\n      <td>0</td>\n      <td>0</td>\n      <td>0</td>\n      <td>0</td>\n      <td>0</td>\n    </tr>\n    <tr>\n      <th>26.2</th>\n      <td>0</td>\n      <td>0</td>\n      <td>0</td>\n      <td>0</td>\n      <td>0</td>\n      <td>0</td>\n      <td>0</td>\n      <td>0</td>\n      <td>0</td>\n      <td>0</td>\n      <td>...</td>\n      <td>0</td>\n      <td>0</td>\n      <td>0</td>\n      <td>0</td>\n      <td>0</td>\n      <td>0</td>\n      <td>0</td>\n      <td>0</td>\n      <td>0</td>\n      <td>0</td>\n    </tr>\n    <tr>\n      <th>26.4</th>\n      <td>0</td>\n      <td>0</td>\n      <td>0</td>\n      <td>0</td>\n      <td>0</td>\n      <td>0</td>\n      <td>0</td>\n      <td>0</td>\n      <td>0</td>\n      <td>0</td>\n      <td>...</td>\n      <td>0</td>\n      <td>0</td>\n      <td>0</td>\n      <td>0</td>\n      <td>0</td>\n      <td>0</td>\n      <td>0</td>\n      <td>0</td>\n      <td>0</td>\n      <td>0</td>\n    </tr>\n    <tr>\n      <th>30.0</th>\n      <td>0</td>\n      <td>0</td>\n      <td>0</td>\n      <td>0</td>\n      <td>0</td>\n      <td>0</td>\n      <td>0</td>\n      <td>0</td>\n      <td>0</td>\n      <td>0</td>\n      <td>...</td>\n      <td>0</td>\n      <td>0</td>\n      <td>0</td>\n      <td>0</td>\n      <td>0</td>\n      <td>0</td>\n      <td>0</td>\n      <td>0</td>\n      <td>0</td>\n      <td>0</td>\n    </tr>\n    <tr>\n      <th>31.5</th>\n      <td>0</td>\n      <td>0</td>\n      <td>0</td>\n      <td>0</td>\n      <td>0</td>\n      <td>0</td>\n      <td>0</td>\n      <td>0</td>\n      <td>0</td>\n      <td>0</td>\n      <td>...</td>\n      <td>0</td>\n      <td>0</td>\n      <td>0</td>\n      <td>0</td>\n      <td>0</td>\n      <td>0</td>\n      <td>0</td>\n      <td>0</td>\n      <td>0</td>\n      <td>0</td>\n    </tr>\n    <tr>\n      <th>31.6</th>\n      <td>0</td>\n      <td>0</td>\n      <td>0</td>\n      <td>0</td>\n      <td>0</td>\n      <td>0</td>\n      <td>0</td>\n      <td>0</td>\n      <td>0</td>\n      <td>0</td>\n      <td>...</td>\n      <td>0</td>\n      <td>0</td>\n      <td>0</td>\n      <td>0</td>\n      <td>0</td>\n      <td>0</td>\n      <td>0</td>\n      <td>0</td>\n      <td>0</td>\n      <td>0</td>\n    </tr>\n    <tr>\n      <th>32.0</th>\n      <td>0</td>\n      <td>0</td>\n      <td>0</td>\n      <td>0</td>\n      <td>0</td>\n      <td>0</td>\n      <td>0</td>\n      <td>0</td>\n      <td>0</td>\n      <td>0</td>\n      <td>...</td>\n      <td>0</td>\n      <td>0</td>\n      <td>0</td>\n      <td>0</td>\n      <td>0</td>\n      <td>0</td>\n      <td>0</td>\n      <td>0</td>\n      <td>0</td>\n      <td>0</td>\n    </tr>\n    <tr>\n      <th>35.1</th>\n      <td>0</td>\n      <td>0</td>\n      <td>0</td>\n      <td>0</td>\n      <td>0</td>\n      <td>0</td>\n      <td>0</td>\n      <td>0</td>\n      <td>0</td>\n      <td>0</td>\n      <td>...</td>\n      <td>0</td>\n      <td>0</td>\n      <td>0</td>\n      <td>0</td>\n      <td>0</td>\n      <td>0</td>\n      <td>0</td>\n      <td>0</td>\n      <td>0</td>\n      <td>0</td>\n    </tr>\n    <tr>\n      <th>35.7</th>\n      <td>0</td>\n      <td>0</td>\n      <td>0</td>\n      <td>0</td>\n      <td>0</td>\n      <td>0</td>\n      <td>0</td>\n      <td>0</td>\n      <td>0</td>\n      <td>0</td>\n      <td>...</td>\n      <td>0</td>\n      <td>0</td>\n      <td>0</td>\n      <td>0</td>\n      <td>0</td>\n      <td>0</td>\n      <td>0</td>\n      <td>0</td>\n      <td>0</td>\n      <td>0</td>\n    </tr>\n    <tr>\n      <th>38.6</th>\n      <td>0</td>\n      <td>0</td>\n      <td>0</td>\n      <td>0</td>\n      <td>0</td>\n      <td>0</td>\n      <td>0</td>\n      <td>0</td>\n      <td>0</td>\n      <td>0</td>\n      <td>...</td>\n      <td>0</td>\n      <td>0</td>\n      <td>0</td>\n      <td>0</td>\n      <td>0</td>\n      <td>0</td>\n      <td>0</td>\n      <td>0</td>\n      <td>0</td>\n      <td>0</td>\n    </tr>\n    <tr>\n      <th>38.7</th>\n      <td>0</td>\n      <td>0</td>\n      <td>0</td>\n      <td>0</td>\n      <td>0</td>\n      <td>0</td>\n      <td>0</td>\n      <td>0</td>\n      <td>0</td>\n      <td>0</td>\n      <td>...</td>\n      <td>0</td>\n      <td>0</td>\n      <td>0</td>\n      <td>0</td>\n      <td>0</td>\n      <td>0</td>\n      <td>0</td>\n      <td>0</td>\n      <td>0</td>\n      <td>0</td>\n    </tr>\n    <tr>\n      <th>40.8</th>\n      <td>0</td>\n      <td>0</td>\n      <td>0</td>\n      <td>0</td>\n      <td>0</td>\n      <td>0</td>\n      <td>0</td>\n      <td>0</td>\n      <td>0</td>\n      <td>0</td>\n      <td>...</td>\n      <td>0</td>\n      <td>0</td>\n      <td>0</td>\n      <td>0</td>\n      <td>0</td>\n      <td>0</td>\n      <td>0</td>\n      <td>0</td>\n      <td>0</td>\n      <td>0</td>\n    </tr>\n    <tr>\n      <th>43.2</th>\n      <td>0</td>\n      <td>0</td>\n      <td>0</td>\n      <td>0</td>\n      <td>0</td>\n      <td>0</td>\n      <td>0</td>\n      <td>0</td>\n      <td>0</td>\n      <td>0</td>\n      <td>...</td>\n      <td>0</td>\n      <td>0</td>\n      <td>0</td>\n      <td>0</td>\n      <td>0</td>\n      <td>0</td>\n      <td>0</td>\n      <td>0</td>\n      <td>0</td>\n      <td>0</td>\n    </tr>\n    <tr>\n      <th>43.3</th>\n      <td>0</td>\n      <td>0</td>\n      <td>0</td>\n      <td>0</td>\n      <td>0</td>\n      <td>0</td>\n      <td>0</td>\n      <td>0</td>\n      <td>0</td>\n      <td>0</td>\n      <td>...</td>\n      <td>0</td>\n      <td>0</td>\n      <td>0</td>\n      <td>0</td>\n      <td>0</td>\n      <td>0</td>\n      <td>0</td>\n      <td>0</td>\n      <td>0</td>\n      <td>0</td>\n    </tr>\n    <tr>\n      <th>45.1</th>\n      <td>0</td>\n      <td>0</td>\n      <td>0</td>\n      <td>0</td>\n      <td>0</td>\n      <td>0</td>\n      <td>0</td>\n      <td>0</td>\n      <td>0</td>\n      <td>0</td>\n      <td>...</td>\n      <td>0</td>\n      <td>0</td>\n      <td>0</td>\n      <td>0</td>\n      <td>0</td>\n      <td>0</td>\n      <td>0</td>\n      <td>0</td>\n      <td>0</td>\n      <td>0</td>\n    </tr>\n    <tr>\n      <th>45.7</th>\n      <td>0</td>\n      <td>0</td>\n      <td>0</td>\n      <td>0</td>\n      <td>0</td>\n      <td>0</td>\n      <td>0</td>\n      <td>0</td>\n      <td>0</td>\n      <td>0</td>\n      <td>...</td>\n      <td>0</td>\n      <td>0</td>\n      <td>0</td>\n      <td>0</td>\n      <td>0</td>\n      <td>0</td>\n      <td>0</td>\n      <td>0</td>\n      <td>0</td>\n      <td>0</td>\n    </tr>\n    <tr>\n      <th>46.0</th>\n      <td>0</td>\n      <td>0</td>\n      <td>0</td>\n      <td>0</td>\n      <td>0</td>\n      <td>0</td>\n      <td>0</td>\n      <td>0</td>\n      <td>0</td>\n      <td>0</td>\n      <td>...</td>\n      <td>0</td>\n      <td>0</td>\n      <td>0</td>\n      <td>0</td>\n      <td>0</td>\n      <td>0</td>\n      <td>0</td>\n      <td>0</td>\n      <td>0</td>\n      <td>0</td>\n    </tr>\n    <tr>\n      <th>49.6</th>\n      <td>0</td>\n      <td>0</td>\n      <td>0</td>\n      <td>0</td>\n      <td>0</td>\n      <td>0</td>\n      <td>0</td>\n      <td>0</td>\n      <td>0</td>\n      <td>0</td>\n      <td>...</td>\n      <td>0</td>\n      <td>0</td>\n      <td>0</td>\n      <td>0</td>\n      <td>0</td>\n      <td>0</td>\n      <td>0</td>\n      <td>0</td>\n      <td>0</td>\n      <td>0</td>\n    </tr>\n    <tr>\n      <th>49.9</th>\n      <td>0</td>\n      <td>0</td>\n      <td>0</td>\n      <td>0</td>\n      <td>0</td>\n      <td>0</td>\n      <td>0</td>\n      <td>0</td>\n      <td>0</td>\n      <td>0</td>\n      <td>...</td>\n      <td>0</td>\n      <td>0</td>\n      <td>0</td>\n      <td>0</td>\n      <td>0</td>\n      <td>0</td>\n      <td>0</td>\n      <td>0</td>\n      <td>0</td>\n      <td>0</td>\n    </tr>\n    <tr>\n      <th>52.9</th>\n      <td>0</td>\n      <td>0</td>\n      <td>0</td>\n      <td>0</td>\n      <td>0</td>\n      <td>0</td>\n      <td>0</td>\n      <td>0</td>\n      <td>0</td>\n      <td>0</td>\n      <td>...</td>\n      <td>1</td>\n      <td>0</td>\n      <td>0</td>\n      <td>0</td>\n      <td>0</td>\n      <td>0</td>\n      <td>0</td>\n      <td>0</td>\n      <td>0</td>\n      <td>0</td>\n    </tr>\n    <tr>\n      <th>53.4</th>\n      <td>0</td>\n      <td>0</td>\n      <td>0</td>\n      <td>0</td>\n      <td>0</td>\n      <td>0</td>\n      <td>0</td>\n      <td>0</td>\n      <td>0</td>\n      <td>0</td>\n      <td>...</td>\n      <td>0</td>\n      <td>1</td>\n      <td>0</td>\n      <td>0</td>\n      <td>0</td>\n      <td>0</td>\n      <td>0</td>\n      <td>0</td>\n      <td>0</td>\n      <td>0</td>\n    </tr>\n    <tr>\n      <th>55.8</th>\n      <td>0</td>\n      <td>0</td>\n      <td>0</td>\n      <td>0</td>\n      <td>0</td>\n      <td>0</td>\n      <td>0</td>\n      <td>0</td>\n      <td>0</td>\n      <td>0</td>\n      <td>...</td>\n      <td>0</td>\n      <td>0</td>\n      <td>1</td>\n      <td>0</td>\n      <td>0</td>\n      <td>0</td>\n      <td>0</td>\n      <td>0</td>\n      <td>0</td>\n      <td>0</td>\n    </tr>\n    <tr>\n      <th>58.4</th>\n      <td>0</td>\n      <td>0</td>\n      <td>0</td>\n      <td>0</td>\n      <td>0</td>\n      <td>0</td>\n      <td>0</td>\n      <td>0</td>\n      <td>0</td>\n      <td>0</td>\n      <td>...</td>\n      <td>0</td>\n      <td>0</td>\n      <td>0</td>\n      <td>1</td>\n      <td>0</td>\n      <td>0</td>\n      <td>0</td>\n      <td>0</td>\n      <td>0</td>\n      <td>0</td>\n    </tr>\n    <tr>\n      <th>58.5</th>\n      <td>0</td>\n      <td>0</td>\n      <td>0</td>\n      <td>0</td>\n      <td>0</td>\n      <td>0</td>\n      <td>0</td>\n      <td>0</td>\n      <td>0</td>\n      <td>0</td>\n      <td>...</td>\n      <td>0</td>\n      <td>0</td>\n      <td>0</td>\n      <td>0</td>\n      <td>1</td>\n      <td>0</td>\n      <td>0</td>\n      <td>0</td>\n      <td>0</td>\n      <td>0</td>\n    </tr>\n    <tr>\n      <th>65.9</th>\n      <td>0</td>\n      <td>0</td>\n      <td>0</td>\n      <td>0</td>\n      <td>0</td>\n      <td>0</td>\n      <td>0</td>\n      <td>0</td>\n      <td>0</td>\n      <td>0</td>\n      <td>...</td>\n      <td>0</td>\n      <td>0</td>\n      <td>0</td>\n      <td>0</td>\n      <td>0</td>\n      <td>1</td>\n      <td>0</td>\n      <td>0</td>\n      <td>0</td>\n      <td>0</td>\n    </tr>\n    <tr>\n      <th>69.2</th>\n      <td>0</td>\n      <td>0</td>\n      <td>0</td>\n      <td>0</td>\n      <td>0</td>\n      <td>0</td>\n      <td>0</td>\n      <td>0</td>\n      <td>0</td>\n      <td>0</td>\n      <td>...</td>\n      <td>0</td>\n      <td>0</td>\n      <td>0</td>\n      <td>0</td>\n      <td>0</td>\n      <td>0</td>\n      <td>1</td>\n      <td>0</td>\n      <td>0</td>\n      <td>0</td>\n    </tr>\n    <tr>\n      <th>69.3</th>\n      <td>0</td>\n      <td>0</td>\n      <td>0</td>\n      <td>0</td>\n      <td>0</td>\n      <td>0</td>\n      <td>0</td>\n      <td>0</td>\n      <td>0</td>\n      <td>0</td>\n      <td>...</td>\n      <td>0</td>\n      <td>0</td>\n      <td>0</td>\n      <td>0</td>\n      <td>0</td>\n      <td>0</td>\n      <td>0</td>\n      <td>1</td>\n      <td>0</td>\n      <td>0</td>\n    </tr>\n    <tr>\n      <th>75.0</th>\n      <td>0</td>\n      <td>0</td>\n      <td>0</td>\n      <td>0</td>\n      <td>0</td>\n      <td>0</td>\n      <td>0</td>\n      <td>0</td>\n      <td>0</td>\n      <td>0</td>\n      <td>...</td>\n      <td>0</td>\n      <td>0</td>\n      <td>0</td>\n      <td>0</td>\n      <td>0</td>\n      <td>0</td>\n      <td>0</td>\n      <td>0</td>\n      <td>1</td>\n      <td>0</td>\n    </tr>\n    <tr>\n      <th>114.0</th>\n      <td>0</td>\n      <td>0</td>\n      <td>0</td>\n      <td>0</td>\n      <td>0</td>\n      <td>0</td>\n      <td>0</td>\n      <td>0</td>\n      <td>0</td>\n      <td>0</td>\n      <td>...</td>\n      <td>0</td>\n      <td>0</td>\n      <td>0</td>\n      <td>0</td>\n      <td>0</td>\n      <td>0</td>\n      <td>0</td>\n      <td>0</td>\n      <td>0</td>\n      <td>1</td>\n    </tr>\n  </tbody>\n</table>\n<p>46 rows × 46 columns</p>\n</div>"
          },
          "metadata": {}
        }
      ],
      "execution_count": null,
      "metadata": {
        "jupyter": {
          "source_hidden": false,
          "outputs_hidden": false
        },
        "nteract": {
          "transient": {
            "deleting": false
          }
        },
        "gather": {
          "logged": 1734290530237
        },
        "id": "OpSTh8udKvgv",
        "outputId": "8952537c-e4e4-4fdb-c935-6cab9db2a689"
      }
    },
    {
      "cell_type": "markdown",
      "source": [
        "**Observation:**\n",
        "- Just showing crosstab function as an example - this is usually used for categorical features."
      ],
      "metadata": {
        "nteract": {
          "transient": {
            "deleting": false
          }
        },
        "id": "0Ee9KloiKvgv"
      }
    },
    {
      "cell_type": "code",
      "source": [
        "# Creating the feature to collect drift variables and setting the threshold to 0.05\n",
        "threshold = 0.05\n",
        "features_with_data_drift = []"
      ],
      "outputs": [],
      "execution_count": null,
      "metadata": {
        "jupyter": {
          "source_hidden": false,
          "outputs_hidden": false
        },
        "nteract": {
          "transient": {
            "deleting": false
          }
        },
        "gather": {
          "logged": 1734290635246
        },
        "id": "ofWvmSs1Kvgv"
      }
    },
    {
      "cell_type": "code",
      "source": [
        "# Setting the Sales column as the target and the other feature columns as numeric_features\n",
        "# and there are no categorical_features in this dataset\n",
        "target = \"Sales\"\n",
        "numeric_features = ['TV', 'Radio', 'Newspaper']\n",
        "categorical_features = []"
      ],
      "outputs": [],
      "execution_count": null,
      "metadata": {
        "jupyter": {
          "source_hidden": false,
          "outputs_hidden": false
        },
        "nteract": {
          "transient": {
            "deleting": false
          }
        },
        "gather": {
          "logged": 1734290637346
        },
        "id": "rqNFRfGJKvgv"
      }
    },
    {
      "cell_type": "code",
      "source": [
        "for k, feature in enumerate(sample.columns):\n",
        "    # Check if the feature is numeric\n",
        "    # Perform the Kolmogorov-Smirnov test between the corresponding feature in the training and sample data\n",
        "    if feature in numeric_features:\n",
        "        statistic, p_value = ks_2samp(\n",
        "            training_data[feature].values,\n",
        "            sample[feature].values\n",
        "        )\n",
        "\n",
        "        print (feature)\n",
        "        print (p_value)\n",
        "\n",
        "        if p_value < threshold:\n",
        "            features_with_data_drift.append(feature)\n",
        "    # Check if the feature is categorical\n",
        "    # Perform the chi-squared test between the corresponding feature in the training and sample data\n",
        "    elif feature in categorical_features:\n",
        "        statistic, p_value, dof, expected = chi2_contingency(\n",
        "            pd.crosstab(\n",
        "                training_data[feature],\n",
        "                sample[feature]\n",
        "            ).values\n",
        "        )\n",
        "\n",
        "        print (feature)\n",
        "        print (p_value)\n",
        "\n",
        "        # Add the feature to the list of features with data drift\n",
        "        if p_value < threshold:\n",
        "            features_with_data_drift.append(feature)"
      ],
      "outputs": [
        {
          "output_type": "stream",
          "name": "stdout",
          "text": "TV\n0.8637238387761248\nRadio\n0.7847301575620733\nNewspaper\n0.513432781899389\n"
        }
      ],
      "execution_count": null,
      "metadata": {
        "jupyter": {
          "source_hidden": false,
          "outputs_hidden": false
        },
        "nteract": {
          "transient": {
            "deleting": false
          }
        },
        "gather": {
          "logged": 1734290641454
        },
        "id": "4T7Rj3leKvgw",
        "outputId": "28e3a703-d008-46e1-d5b7-7ee7f2a74bff"
      }
    },
    {
      "cell_type": "markdown",
      "source": [
        "**Observation:**\n",
        "- The p_value for all 3 columns is > 0.05"
      ],
      "metadata": {
        "nteract": {
          "transient": {
            "deleting": false
          }
        },
        "id": "chOVyacnKvgw"
      }
    },
    {
      "cell_type": "code",
      "source": [
        "# Showing the features with data drift\n",
        "features_with_data_drift"
      ],
      "outputs": [
        {
          "output_type": "execute_result",
          "execution_count": 50,
          "data": {
            "text/plain": "[]"
          },
          "metadata": {}
        }
      ],
      "execution_count": null,
      "metadata": {
        "jupyter": {
          "source_hidden": false,
          "outputs_hidden": false
        },
        "nteract": {
          "transient": {
            "deleting": false
          }
        },
        "gather": {
          "logged": 1734290686655
        },
        "id": "8yPSxwviKvgw",
        "outputId": "000ed6c7-cf78-42d1-dc5d-fbccb6b326fb"
      }
    },
    {
      "cell_type": "markdown",
      "source": [
        "Note: Sate if data drift has been observed in an feature or not"
      ],
      "metadata": {
        "nteract": {
          "transient": {
            "deleting": false
          }
        },
        "id": "EYjvQtHhKvgw"
      }
    },
    {
      "cell_type": "markdown",
      "source": [
        "**Observation:**\n",
        "- There is no data drift when the training data is tested against the synthetic data."
      ],
      "metadata": {
        "nteract": {
          "transient": {
            "deleting": false
          }
        },
        "id": "hV7uA5O_Kvgw"
      }
    },
    {
      "cell_type": "markdown",
      "source": [
        "## Model Drift"
      ],
      "metadata": {
        "nteract": {
          "transient": {
            "deleting": false
          }
        },
        "id": "2wlHKxlOKvgw"
      }
    },
    {
      "cell_type": "markdown",
      "source": [
        "To confirm model drift, we compare the ground truth of live data with the predictions from the deployed model. This involves extracting samples where the predictions and ground truth are compared, followed by conducting a statistical test to determine if there is a significant difference between the model predictions and the ground truth.\n",
        "\n",
        "For regression problems where the ground truth is readily available, we can compare the model's performance on a random sample with the ground truth observed in that sample. This comparison utilizes a paired two-sample t-test since the exact same sample is presented to both the deployed model and the ground truth. If the ground truth is not immediately available, we can estimate it manually and then compare the model's performance on the random sample with the manually estimated ground truth, again employing a paired two-sample t-test. In cases where manual estimation is not possible, we combine the ground truth (when available) with the predictions on the sample and perform a paired two-sample t-test for comparison.\n"
      ],
      "metadata": {
        "nteract": {
          "transient": {
            "deleting": false
          }
        },
        "id": "DuAKeXtHKvgw"
      }
    },
    {
      "cell_type": "markdown",
      "source": [
        "Note: Use \"advertising_ground_truth.csv\" to check for Model drift"
      ],
      "metadata": {
        "nteract": {
          "transient": {
            "deleting": false
          }
        },
        "id": "34izh-LuKvgx"
      }
    },
    {
      "cell_type": "code",
      "source": [
        "# Reading the file to check Model Drift which has the target value to check against the predicted values\n",
        "ground_truth_sales = pd.read_csv('data/advertising_ground_truth.csv')"
      ],
      "outputs": [],
      "execution_count": null,
      "metadata": {
        "jupyter": {
          "source_hidden": false,
          "outputs_hidden": false
        },
        "nteract": {
          "transient": {
            "deleting": false
          }
        },
        "gather": {
          "logged": 1734290853268
        },
        "id": "7Y1JzEQMKvgx"
      }
    },
    {
      "cell_type": "code",
      "source": [
        "# Showing the number of rows in the dataset\n",
        "len(ground_truth_sales)"
      ],
      "outputs": [
        {
          "output_type": "execute_result",
          "execution_count": 52,
          "data": {
            "text/plain": "19"
          },
          "metadata": {}
        }
      ],
      "execution_count": null,
      "metadata": {
        "jupyter": {
          "source_hidden": false,
          "outputs_hidden": false
        },
        "nteract": {
          "transient": {
            "deleting": false
          }
        },
        "gather": {
          "logged": 1734290856008
        },
        "id": "d5uiDazzKvgx",
        "outputId": "8d2aba85-72a9-4224-be18-88daee81d811"
      }
    },
    {
      "cell_type": "code",
      "source": [
        "# Showing the last five rows in the dataset\n",
        "ground_truth_sales.tail()"
      ],
      "outputs": [
        {
          "output_type": "execute_result",
          "execution_count": 53,
          "data": {
            "text/plain": "    Sales\n14   19.0\n15   22.4\n16   12.5\n17   24.4\n18   11.3",
            "text/html": "<div>\n<style scoped>\n    .dataframe tbody tr th:only-of-type {\n        vertical-align: middle;\n    }\n\n    .dataframe tbody tr th {\n        vertical-align: top;\n    }\n\n    .dataframe thead th {\n        text-align: right;\n    }\n</style>\n<table border=\"1\" class=\"dataframe\">\n  <thead>\n    <tr style=\"text-align: right;\">\n      <th></th>\n      <th>Sales</th>\n    </tr>\n  </thead>\n  <tbody>\n    <tr>\n      <th>14</th>\n      <td>19.0</td>\n    </tr>\n    <tr>\n      <th>15</th>\n      <td>22.4</td>\n    </tr>\n    <tr>\n      <th>16</th>\n      <td>12.5</td>\n    </tr>\n    <tr>\n      <th>17</th>\n      <td>24.4</td>\n    </tr>\n    <tr>\n      <th>18</th>\n      <td>11.3</td>\n    </tr>\n  </tbody>\n</table>\n</div>"
          },
          "metadata": {}
        }
      ],
      "execution_count": null,
      "metadata": {
        "jupyter": {
          "source_hidden": false,
          "outputs_hidden": false
        },
        "nteract": {
          "transient": {
            "deleting": false
          }
        },
        "gather": {
          "logged": 1734290859210
        },
        "id": "DJpi5djdKvgx",
        "outputId": "bc4603a3-a685-45af-fced-ab234613f979"
      }
    },
    {
      "cell_type": "code",
      "source": [
        "# Perform a paired two-sample t-test\n",
        "two_sample_ttest = ttest_rel(predicted_values, ground_truth_sales['Sales'])"
      ],
      "outputs": [],
      "execution_count": null,
      "metadata": {
        "jupyter": {
          "source_hidden": false,
          "outputs_hidden": false
        },
        "nteract": {
          "transient": {
            "deleting": false
          }
        },
        "gather": {
          "logged": 1734290863805
        },
        "id": "0kLwyJUBKvgx"
      }
    },
    {
      "cell_type": "code",
      "source": [
        "# Showing the p_value for the Model Drift\n",
        "two_sample_ttest.pvalue"
      ],
      "outputs": [
        {
          "output_type": "execute_result",
          "execution_count": 55,
          "data": {
            "text/plain": "5.207343777936449e-05"
          },
          "metadata": {}
        }
      ],
      "execution_count": null,
      "metadata": {
        "jupyter": {
          "source_hidden": false,
          "outputs_hidden": false
        },
        "nteract": {
          "transient": {
            "deleting": false
          }
        },
        "gather": {
          "logged": 1734290866859
        },
        "id": "VAc594tvKvgy",
        "outputId": "4aab5c0b-56a5-4d25-fbc7-4e1de78e6b9c"
      }
    },
    {
      "cell_type": "markdown",
      "source": [
        "Note: on the basis of p-value outcome state if there is significance difference between the model predictions and ground truth."
      ],
      "metadata": {
        "nteract": {
          "transient": {
            "deleting": false
          }
        },
        "id": "ZXVy5E5gKvgy"
      }
    },
    {
      "cell_type": "markdown",
      "source": [
        "**Observation:**\n",
        "- Since the p_value is < 0.05, we can say that there is a significant difference between the model predictions and the ground truth."
      ],
      "metadata": {
        "nteract": {
          "transient": {
            "deleting": false
          }
        },
        "id": "9OAl5JNSKvgy"
      }
    },
    {
      "cell_type": "markdown",
      "source": [
        "----------------------------------------------------------------------------------------"
      ],
      "metadata": {
        "nteract": {
          "transient": {
            "deleting": false
          }
        },
        "id": "wMATEvGcKvgy"
      }
    },
    {
      "cell_type": "markdown",
      "source": [
        "# Note: Refer to MLS and LVS to perform this section of the project"
      ],
      "metadata": {
        "nteract": {
          "transient": {
            "deleting": false
          }
        },
        "id": "1x1UjpeWKvgy"
      }
    },
    {
      "cell_type": "markdown",
      "source": [
        "### **Conclusions**"
      ],
      "metadata": {
        "nteract": {
          "transient": {
            "deleting": false
          }
        },
        "id": "zldCq_AmKvgy"
      }
    },
    {
      "cell_type": "markdown",
      "source": [
        "- The Target Check showed the p_value is < 0.05, we can say that the there is a difference between the live predictions and the training targets.  The training targets need to be reviewed especially for outliers and re-evaluated.\n",
        "- The Data Drift section did not show drift for any variables.  These were the p_values for the 3 columns: TV 0.8637238387761248, Radio 0.7847301575620733, Newspaper 0.513432781899389.\n",
        "- The Model Drift showed the p_value is < 0.05, we can say that there is a significant difference between the model predictions and the ground truth.\n",
        "These are some items that should be looked at for the Model Drift:\n",
        "\n",
        "1. - Retrain the model with recent data.\n",
        "3. - Check for concept drift - is there data that needs to be included/excluded.\n",
        "5. - Continue to monitor model performance.       \n",
        "7. - Check to see if there are other factors that could be affecting the data - market, seasonality, etc.."
      ],
      "metadata": {
        "nteract": {
          "transient": {
            "deleting": false
          }
        },
        "id": "slt5Q02vKvgz"
      }
    }
  ],
  "metadata": {
    "kernel_info": {
      "name": "python310-sdkv2"
    },
    "kernelspec": {
      "name": "python310-sdkv2",
      "language": "python",
      "display_name": "Python 3.10 - SDK v2"
    },
    "language_info": {
      "name": "python",
      "version": "3.10.14",
      "mimetype": "text/x-python",
      "codemirror_mode": {
        "name": "ipython",
        "version": 3
      },
      "pygments_lexer": "ipython3",
      "nbconvert_exporter": "python",
      "file_extension": ".py"
    },
    "microsoft": {
      "host": {
        "AzureML": {
          "notebookHasBeenCompleted": true
        }
      },
      "ms_spell_check": {
        "ms_spell_check_language": "en"
      }
    },
    "nteract": {
      "version": "nteract-front-end@1.0.0"
    },
    "colab": {
      "provenance": [],
      "include_colab_link": true
    }
  },
  "nbformat": 4,
  "nbformat_minor": 0
}